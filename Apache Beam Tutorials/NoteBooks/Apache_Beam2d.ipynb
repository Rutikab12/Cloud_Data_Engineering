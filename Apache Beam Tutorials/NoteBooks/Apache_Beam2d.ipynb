{
  "nbformat": 4,
  "nbformat_minor": 0,
  "metadata": {
    "colab": {
      "provenance": [],
      "toc_visible": true
    },
    "kernelspec": {
      "name": "python3",
      "display_name": "Python 3"
    },
    "language_info": {
      "name": "python"
    }
  },
  "cells": [
    {
      "cell_type": "code",
      "execution_count": 4,
      "metadata": {
        "id": "h2Ub05Cl_2Sc"
      },
      "outputs": [],
      "source": [
        "import apache_beam as beam\n",
        "import time"
      ]
    },
    {
      "cell_type": "markdown",
      "source": [
        "#Combine\n",
        "\n",
        "- Combine is a Beam transform for combining collections of elements or values in your data.\n",
        "-\tCombine has variants that work on entire PCollections, and some that combine the values for each key in PCollections of key/value pairs.\n",
        "-\tWhen you apply a Combine transform, you must provide the function that contains the logic for combining the elements or values.\n",
        "-\tThe combining function should be commutative and associative.\n",
        "-\tThe Beam SDK also provides some pre-built combine functions for common numeric combination operations such as sum, min, and max.\n",
        "-\tcomplex combination operations might require you to create a subclass of CombineFn that has an accumulation type distinct from the input/output type.\n",
        "\n",
        "The associativity and commutativity of a CombineFn allows runners to automatically apply some optimizations:\n",
        "\n",
        "- Combiner lifting: This is the most significant optimization. Input elements are combined per key and window before they are shuffled, so the volume of data shuffled might be reduced by many orders of magnitude. Another term for this optimization is “mapper-side combine.”\n",
        "- Incremental combining: When you have a CombineFn that reduces the data size by a lot, it is useful to combine elements as they emerge from a streaming shuffle. This spreads out the cost of doing combines over the time that your streaming computation might be idle. Incremental combining also reduces the storage of intermediate accumulators.\n"
      ],
      "metadata": {
        "id": "lqWvMmgUFZED"
      }
    },
    {
      "cell_type": "markdown",
      "source": [
        "#CombineGlobally\n",
        "\n",
        "Combines all the elements in PCollection.\n",
        "\n",
        "CombineGlobally accepts a function that takes an iterable of elements as an input, and combines them to return a single element.\n",
        "\n"
      ],
      "metadata": {
        "id": "rg1a7Mr4GwUc"
      }
    },
    {
      "cell_type": "code",
      "source": [
        "pc = [1, 10, 100, 1000]\n",
        "def sum_elements(element):\n",
        "  return sum(element)\n",
        "\n",
        "with beam.Pipeline() as p:\n",
        "  input = (\n",
        "      p\n",
        "      | 'Create' >> beam.Create(pc)\n",
        "      | 'Sum' >> beam.CombineGlobally(sum_elements) #can use sum() directly\n",
        "      | 'Print' >> beam.Map(print)\n",
        "  )"
      ],
      "metadata": {
        "colab": {
          "base_uri": "https://localhost:8080/"
        },
        "id": "1pRxx9XGFXVM",
        "outputId": "e7790230-17bd-4fbd-8eb5-2d051e0ae20f"
      },
      "execution_count": 6,
      "outputs": [
        {
          "output_type": "stream",
          "name": "stdout",
          "text": [
            "1111\n"
          ]
        }
      ]
    },
    {
      "cell_type": "markdown",
      "source": [
        "#CombineFn\n",
        "\n",
        "- For more complex combine functions, you can define a subclass ofCombineFn. You should use a CombineFn if the combine function requires a more sophisticated accumulator.\n",
        "\n",
        "- The more general way to combine elements, and the most flexible, is with a class that inherits from CombineFn.\n",
        "\n",
        "    - CombineFn.create_accumulator(): This creates an empty accumulator. For example, an empty accumulator for a sum would be 0, while an empty accumulator for a product (multiplication) would be 1.\n",
        "\n",
        "    - CombineFn.add_input(): Called once per element. Takes an accumulator and an input element, combines them and returns the updated accumulator.\n",
        "\n",
        "    - CombineFn.merge_accumulators(): Multiple accumulators could be processed in parallel, so this function helps merging them into a single accumulator.\n",
        "\n",
        "    - CombineFn.extract_output(): It allows to do additional calculations before extracting a result."
      ],
      "metadata": {
        "id": "60WpII1bJkoV"
      }
    },
    {
      "cell_type": "code",
      "source": [
        "#using CombineFn with Accumulators\n",
        "class AverageFn(beam.CombineFn):\n",
        "  def create_accumulator(self):\n",
        "    return (0.0, 0)\n",
        "  def add_input(self,sum_count,input):\n",
        "    (sum,count)=sum_count\n",
        "    return sum+input,count+1\n",
        "\n",
        "  def merge_accumulators(self, accumulators):\n",
        "    sums, counts = zip(*accumulators)\n",
        "    return sum(sums), sum(counts)\n",
        "\n",
        "  def extract_output(self, sum_count):\n",
        "    (sum, count) = sum_count\n",
        "    return sum / count if count else float('NaN')\n"
      ],
      "metadata": {
        "id": "EGtZTZSgKHgy"
      },
      "execution_count": 7,
      "outputs": []
    },
    {
      "cell_type": "code",
      "source": [
        "with beam.Pipeline() as p:\n",
        "  input_data = (p\n",
        "                | \"Create data\" >> beam.Create([21,45,78,99,1,22,5])\n",
        "                | \"Combine Globally\" >> beam.CombineGlobally(AverageFn())\n",
        "                |\"Write to Local\">> beam.io.WriteToText('data/result'))"
      ],
      "metadata": {
        "id": "BPcAuY6vJzsN"
      },
      "execution_count": 8,
      "outputs": []
    },
    {
      "cell_type": "code",
      "source": [
        "!{'head -n 10 /content/data/result-00000-of-00001'}"
      ],
      "metadata": {
        "colab": {
          "base_uri": "https://localhost:8080/"
        },
        "id": "U84LNvSjLbSP",
        "outputId": "22a4a403-fe76-41ae-fc07-ea99c991e039"
      },
      "execution_count": 9,
      "outputs": [
        {
          "output_type": "stream",
          "name": "stdout",
          "text": [
            "38.714285714285715\n"
          ]
        }
      ]
    },
    {
      "cell_type": "code",
      "source": [
        "class PercentagesFn(beam.CombineFn):\n",
        "  def create_accumulator(self):\n",
        "    return {}\n",
        "\n",
        "  def add_input(self, accumulator, input):\n",
        "    # accumulator == {}\n",
        "    # input == '🥕'\n",
        "    if input not in accumulator:\n",
        "      accumulator[input] = 0  # {'🥕': 0}\n",
        "    accumulator[input] += 1  # {'🥕': 1}\n",
        "    return accumulator\n",
        "\n",
        "  def extract_output(self, accumulator):\n",
        "    # accumulator == {'🥕': 3, '🍅': 6, '🍆': 1}\n",
        "    total = sum(accumulator.values())  # 10\n",
        "    percentages = {item: count / total for item, count in accumulator.items()}\n",
        "    # percentages == {'🥕': 0.3, '🍅': 0.6, '🍆': 0.1}\n",
        "    return percentages"
      ],
      "metadata": {
        "id": "WAdUkaC2Mfs0"
      },
      "execution_count": 11,
      "outputs": []
    },
    {
      "cell_type": "code",
      "source": [
        "with beam.Pipeline() as p:\n",
        "  percentages = (\n",
        "      p\n",
        "      | 'Create produce' >> beam.Create(['🥕', '🍅', '🍅', '🥕', '🍆', '🍅', '🍅', '🍅', '🥕', '🍅'])\n",
        "      | 'Get percentages' >> beam.CombineGlobally(PercentagesFn())\n",
        "      | beam.Map(print)\n",
        "  )\n",
        "\n",
        "  # assert percentages == {'🥕': 0.3, '🍅': 0.6, '🍆': 0.1}"
      ],
      "metadata": {
        "id": "3bpxV0LiNOD_"
      },
      "execution_count": null,
      "outputs": []
    },
    {
      "cell_type": "markdown",
      "source": [
        "#CombinePerKey\n",
        "\n",
        "- Combines all elements for each key in a collection\n",
        "\n",
        "- CombinePerKey accepts a function that takes a list of values as an input, and combines them for each key."
      ],
      "metadata": {
        "id": "yMBJtZGqO5tV"
      }
    },
    {
      "cell_type": "code",
      "source": [
        "with beam.Pipeline() as pipeline:\n",
        "    total = (\n",
        "      pipeline\n",
        "      | 'Create plant counts' >> beam.Create([\n",
        "          ('🥕', 3),\n",
        "          ('🥕', 2),\n",
        "          ('🍆', 1),\n",
        "          ('🍅', 4),\n",
        "          ('🍅', 5),\n",
        "          ('🍅', 3),\n",
        "      ])\n",
        "      | 'Sum' >> beam.CombinePerKey(sum)\n",
        "      | beam.Map(print)\n",
        "  )"
      ],
      "metadata": {
        "colab": {
          "base_uri": "https://localhost:8080/"
        },
        "id": "NJYo69dVO5jf",
        "outputId": "3aa63f8b-61ba-4e20-cb08-96818f1ee829"
      },
      "execution_count": 16,
      "outputs": [
        {
          "output_type": "stream",
          "name": "stdout",
          "text": [
            "('🥕', 5)\n",
            "('🍆', 1)\n",
            "('🍅', 12)\n"
          ]
        }
      ]
    },
    {
      "cell_type": "code",
      "source": [
        "#saturated_sum which takes an iterable of numbers and adds them together, up to a predefined maximum number.\n",
        "def saturated_sum(values):\n",
        "    max_value = 8\n",
        "    return min(sum(values), max_value)\n",
        "\n",
        "with beam.Pipeline() as pipeline:\n",
        "  saturated_total = (\n",
        "      pipeline\n",
        "      | 'Create plant counts' >> beam.Create([\n",
        "          ('🥕', 3),\n",
        "          ('🥕', 2),\n",
        "          ('🍆', 1),\n",
        "          ('🍅', 4),\n",
        "          ('🍅', 5),\n",
        "          ('🍅', 3),\n",
        "      ])\n",
        "      | 'Saturated sum' >> beam.CombinePerKey(saturated_sum)\n",
        "      | beam.Map(print))"
      ],
      "metadata": {
        "colab": {
          "base_uri": "https://localhost:8080/"
        },
        "id": "K0uPdZ69Pbb1",
        "outputId": "8b4784ef-523d-497d-b5ed-5dd22e9ca0b3"
      },
      "execution_count": 17,
      "outputs": [
        {
          "output_type": "stream",
          "name": "stdout",
          "text": [
            "('🥕', 5)\n",
            "('🍆', 1)\n",
            "('🍅', 8)\n"
          ]
        }
      ]
    },
    {
      "cell_type": "markdown",
      "source": [
        "#CombineValues\n",
        "\n",
        "- Combines an iterable of values in a keyed collection of elements.\n",
        "\n",
        "- CombineValues accepts a function that takes an iterable of elements as an input, and combines them to return a single element.\n",
        "\n",
        "- CombineValues expects a keyed PCollection of elements, where the value is an iterable of elements to be combined."
      ],
      "metadata": {
        "id": "Co2ikdZaQCWz"
      }
    },
    {
      "cell_type": "code",
      "source": [
        "with beam.Pipeline() as pipeline:\n",
        "  total = (\n",
        "      pipeline\n",
        "      | 'Create produce counts' >> beam.Create([\n",
        "          ('🥕', [3, 2]),\n",
        "          ('🍆', [1]),\n",
        "          ('🍅', [4, 5, 3]),\n",
        "      ])\n",
        "      | 'Sum' >> beam.CombineValues(sum)\n",
        "      | beam.Map(print))"
      ],
      "metadata": {
        "colab": {
          "base_uri": "https://localhost:8080/"
        },
        "id": "Yi2bwIAdQKUn",
        "outputId": "e3a01d86-767a-4765-adff-8cfd71e50a05"
      },
      "execution_count": 18,
      "outputs": [
        {
          "output_type": "stream",
          "name": "stdout",
          "text": [
            "('🥕', 5)\n",
            "('🍆', 1)\n",
            "('🍅', 12)\n"
          ]
        }
      ]
    },
    {
      "cell_type": "markdown",
      "source": [
        "#Latest\n",
        "\n",
        "Gets the element with the latest timestamp."
      ],
      "metadata": {
        "id": "bRF5MlxPE4Gx"
      }
    },
    {
      "cell_type": "code",
      "source": [
        "#using time\n",
        "def to_unix_time(time_str, format='%Y-%m-%d %H:%M:%S'):\n",
        "    return time.mktime(time.strptime(time_str, format))\n",
        "\n",
        "with beam.Pipeline() as pipeline:\n",
        "  latest_element = (\n",
        "      pipeline\n",
        "      | 'Create crops' >> beam.Create([\n",
        "          {\n",
        "              'item': '🥬', 'harvest': '2020-02-24 00:00:00'\n",
        "          },\n",
        "          {\n",
        "              'item': '🍓', 'harvest': '2020-06-16 00:00:00'\n",
        "          },\n",
        "          {\n",
        "              'item': '🥕', 'harvest': '2020-07-17 00:00:00'\n",
        "          },\n",
        "          {\n",
        "              'item': '🍆', 'harvest': '2020-10-26 00:00:00'\n",
        "          },\n",
        "          {\n",
        "              'item': '🍅', 'harvest': '2020-10-01 00:00:00'\n",
        "          },\n",
        "      ])\n",
        "      | 'With timestamps' >> beam.Map(\n",
        "          lambda crop: beam.window.TimestampedValue(crop, time.mktime(time.strptime(crop['harvest'], '%Y-%m-%d %H:%M:%S'))))\n",
        "      | 'Get latest element' >> beam.combiners.Latest.Globally()\n",
        "      | beam.Map(print))"
      ],
      "metadata": {
        "colab": {
          "base_uri": "https://localhost:8080/",
          "height": 73
        },
        "id": "ONwbYgpBEHaP",
        "outputId": "c6d7c710-4b7f-4e34-c5a1-d2a84d6aae7d"
      },
      "execution_count": null,
      "outputs": [
        {
          "output_type": "stream",
          "name": "stderr",
          "text": [
            "WARNING:apache_beam.runners.interactive.interactive_environment:Dependencies required for Interactive Beam PCollection visualization are not available, please use: `pip install apache-beam[interactive]` to install necessary dependencies to enable all data visualization features.\n"
          ]
        },
        {
          "output_type": "display_data",
          "data": {
            "application/javascript": [
              "\n",
              "        if (typeof window.interactive_beam_jquery == 'undefined') {\n",
              "          var jqueryScript = document.createElement('script');\n",
              "          jqueryScript.src = 'https://code.jquery.com/jquery-3.4.1.slim.min.js';\n",
              "          jqueryScript.type = 'text/javascript';\n",
              "          jqueryScript.onload = function() {\n",
              "            var datatableScript = document.createElement('script');\n",
              "            datatableScript.src = 'https://cdn.datatables.net/1.10.20/js/jquery.dataTables.min.js';\n",
              "            datatableScript.type = 'text/javascript';\n",
              "            datatableScript.onload = function() {\n",
              "              window.interactive_beam_jquery = jQuery.noConflict(true);\n",
              "              window.interactive_beam_jquery(document).ready(function($){\n",
              "                \n",
              "              });\n",
              "            }\n",
              "            document.head.appendChild(datatableScript);\n",
              "          };\n",
              "          document.head.appendChild(jqueryScript);\n",
              "        } else {\n",
              "          window.interactive_beam_jquery(document).ready(function($){\n",
              "            \n",
              "          });\n",
              "        }"
            ]
          },
          "metadata": {}
        },
        {
          "output_type": "stream",
          "name": "stdout",
          "text": [
            "{'item': '🍆', 'harvest': '2020-10-26 00:00:00'}\n"
          ]
        }
      ]
    },
    {
      "cell_type": "markdown",
      "source": [
        "\n",
        "#Max\n",
        "\n",
        "- Gets the element with the maximum value within each aggregation.\n",
        "\n",
        "- We use Combine.Globally() to get the maximum element from the entire PCollection.\n"
      ],
      "metadata": {
        "id": "IozKhR18Qq5s"
      }
    },
    {
      "cell_type": "code",
      "source": [
        "with beam.Pipeline() as pipeline:\n",
        "    max_element = (\n",
        "        pipeline\n",
        "        | 'Create numbers' >> beam.Create([3, 4, 1, 2])\n",
        "        | 'Get max value' >> beam.CombineGlobally(lambda elements:max(elements or [None])) #can use max directly\n",
        "        | beam.Map(print)\n",
        ")"
      ],
      "metadata": {
        "id": "zoCIM-9wFWvi",
        "colab": {
          "base_uri": "https://localhost:8080/"
        },
        "outputId": "ffe0b548-b46d-4ac5-a8a9-4639a74cb7c4"
      },
      "execution_count": 22,
      "outputs": [
        {
          "output_type": "stream",
          "name": "stdout",
          "text": [
            "4\n"
          ]
        }
      ]
    },
    {
      "cell_type": "code",
      "source": [
        "#for key,value pairs\n",
        "with beam.Pipeline() as pipeline:\n",
        "    elements_with_max_value_per_key = (\n",
        "        pipeline\n",
        "        | 'Create produce' >> beam.Create([\n",
        "            ('🥕', 3),\n",
        "            ('🥕', 2),\n",
        "            ('🍆', 1),\n",
        "            ('🍅', 4),\n",
        "            ('🍅', 5),\n",
        "            ('🍅', 3),\n",
        "        ])\n",
        "        | 'Get max value per key' >> beam.CombinePerKey(max)\n",
        "        | beam.Map(print)\n",
        ")"
      ],
      "metadata": {
        "colab": {
          "base_uri": "https://localhost:8080/"
        },
        "id": "fC_gfZ5MQ4J8",
        "outputId": "cd7f6395-0f5b-4c85-e14c-ba490ca42c67"
      },
      "execution_count": 23,
      "outputs": [
        {
          "output_type": "stream",
          "name": "stdout",
          "text": [
            "('🥕', 3)\n",
            "('🍆', 1)\n",
            "('🍅', 5)\n"
          ]
        }
      ]
    },
    {
      "cell_type": "markdown",
      "source": [
        "#Mean\n",
        "\n",
        "- We use Mean.Globally() to get the average of the elements from the entire PCollection."
      ],
      "metadata": {
        "id": "-7hL9zgGRm9P"
      }
    },
    {
      "cell_type": "code",
      "source": [
        "with beam.Pipeline() as pipeline:\n",
        "    max_element = (\n",
        "        pipeline\n",
        "        | 'Create numbers' >> beam.Create([3, 4, 1, 2])\n",
        "        | 'Get max value' >> beam.combiners.Mean.Globally() #can use max directly\n",
        "        | beam.Map(print)\n",
        ")"
      ],
      "metadata": {
        "colab": {
          "base_uri": "https://localhost:8080/"
        },
        "id": "Yhy1-hsKRWlH",
        "outputId": "1ac854d4-4322-42ce-bf19-761eeef4f02a"
      },
      "execution_count": 26,
      "outputs": [
        {
          "output_type": "stream",
          "name": "stdout",
          "text": [
            "2.5\n"
          ]
        }
      ]
    },
    {
      "cell_type": "code",
      "source": [
        "#We use Mean.PerKey() to get the average of the elements for each unique key in a PCollection of key-values.\n",
        "with beam.Pipeline() as pipeline:\n",
        "    elements_with_max_value_per_key = (\n",
        "        pipeline\n",
        "        | 'Create produce' >> beam.Create([\n",
        "            ('🥕', 3),\n",
        "            ('🥕', 2),\n",
        "            ('🍆', 1),\n",
        "            ('🍅', 4),\n",
        "            ('🍅', 5),\n",
        "            ('🍅', 3),\n",
        "        ])\n",
        "        | 'Get max value per key' >> beam.combiners.Mean.PerKey()\n",
        "        | beam.Map(print)\n",
        ")"
      ],
      "metadata": {
        "colab": {
          "base_uri": "https://localhost:8080/"
        },
        "id": "bOX0uvegRwIV",
        "outputId": "12f3e44a-12e3-47a1-8539-87eeb119c693"
      },
      "execution_count": 28,
      "outputs": [
        {
          "output_type": "stream",
          "name": "stdout",
          "text": [
            "('🥕', 2.5)\n",
            "('🍆', 1.0)\n",
            "('🍅', 4.0)\n"
          ]
        }
      ]
    },
    {
      "cell_type": "markdown",
      "source": [
        "#Min\n",
        "\n",
        "- Use Combine.Globally() for getting min elements\n",
        "\n",
        "- Use Combine.PerKey() for key-value pairs\n",
        "    \n"
      ],
      "metadata": {
        "id": "-Y8Uz4y0ST3_"
      }
    },
    {
      "cell_type": "code",
      "source": [
        "with beam.Pipeline() as pipeline:\n",
        "    min_element = (\n",
        "        pipeline\n",
        "        | 'Create numbers' >> beam.Create([3, 4, 1, 2])\n",
        "        | 'Get min value' >>\n",
        "        beam.CombineGlobally(lambda elements: min(elements or [-1]))\n",
        "        | beam.Map(print))"
      ],
      "metadata": {
        "colab": {
          "base_uri": "https://localhost:8080/"
        },
        "id": "IidFRY3OR9Ji",
        "outputId": "07d8a918-7e9c-44a2-aec7-c5455954fcf6"
      },
      "execution_count": 29,
      "outputs": [
        {
          "output_type": "stream",
          "name": "stdout",
          "text": [
            "1\n"
          ]
        }
      ]
    },
    {
      "cell_type": "code",
      "source": [
        "with beam.Pipeline() as pipeline:\n",
        "    elements_with_max_value_per_key = (\n",
        "        pipeline\n",
        "        | 'Create produce' >> beam.Create([\n",
        "            ('🥕', 3),\n",
        "            ('🥕', 2),\n",
        "            ('🍆', 1),\n",
        "            ('🍅', 4),\n",
        "            ('🍅', 5),\n",
        "            ('🍅', 3),\n",
        "        ])\n",
        "        | 'Get max value per key' >> beam.CombinePerKey(min)\n",
        "        | beam.Map(print)\n",
        ")"
      ],
      "metadata": {
        "colab": {
          "base_uri": "https://localhost:8080/"
        },
        "id": "wLejQofiSgn2",
        "outputId": "d679e940-4a5f-4820-c7e7-915a9cc1688b"
      },
      "execution_count": 30,
      "outputs": [
        {
          "output_type": "stream",
          "name": "stdout",
          "text": [
            "('🥕', 2)\n",
            "('🍆', 1)\n",
            "('🍅', 3)\n"
          ]
        }
      ]
    },
    {
      "cell_type": "markdown",
      "source": [
        "#Sum\n",
        "\n",
        "- We use Combine.Globally() to get sum of all the element values from the entire PCollection.\n",
        "\n",
        "- We use Combine.PerKey() to get the sum of all the element values for each unique key in a PCollection of key-values."
      ],
      "metadata": {
        "id": "v1hVl_s_S1HC"
      }
    },
    {
      "cell_type": "code",
      "source": [
        "with beam.Pipeline() as pipeline:\n",
        "    min_element = (\n",
        "        pipeline\n",
        "        | 'Create numbers' >> beam.Create([3, 4, 1, 2])\n",
        "        | 'Get min value' >>\n",
        "        beam.CombineGlobally(sum)\n",
        "        | beam.Map(print))"
      ],
      "metadata": {
        "colab": {
          "base_uri": "https://localhost:8080/"
        },
        "id": "bq-kl-BgSk4x",
        "outputId": "31a76e86-a7ad-4aed-956f-f77e3c5289bf"
      },
      "execution_count": 31,
      "outputs": [
        {
          "output_type": "stream",
          "name": "stdout",
          "text": [
            "10\n"
          ]
        }
      ]
    },
    {
      "cell_type": "code",
      "source": [
        "with beam.Pipeline() as pipeline:\n",
        "    elements_with_max_value_per_key = (\n",
        "        pipeline\n",
        "        | 'Create produce' >> beam.Create([\n",
        "            ('🥕', 3),\n",
        "            ('🥕', 2),\n",
        "            ('🍆', 1),\n",
        "            ('🍅', 4),\n",
        "            ('🍅', 5),\n",
        "            ('🍅', 3),\n",
        "        ])\n",
        "        | 'Get max value per key' >> beam.CombinePerKey(sum)\n",
        "        | beam.Map(print)\n",
        ")"
      ],
      "metadata": {
        "colab": {
          "base_uri": "https://localhost:8080/"
        },
        "id": "9UHK6-5hSvso",
        "outputId": "f5c7e86d-faeb-48f0-c670-e90faf8971e4"
      },
      "execution_count": 32,
      "outputs": [
        {
          "output_type": "stream",
          "name": "stdout",
          "text": [
            "('🥕', 5)\n",
            "('🍆', 1)\n",
            "('🍅', 12)\n"
          ]
        }
      ]
    },
    {
      "cell_type": "markdown",
      "source": [
        "#Top\n",
        "\n",
        "- gets you smallest,largest,top value from Pcollections of elements.\n",
        "\n",
        "- We use Top.Largest() to get the largest elements from the entire PCollection.\n",
        "\n",
        "- We use Top.Smallest() to get the largest elements from the entire PCollection.\n",
        "\n",
        "-"
      ],
      "metadata": {
        "id": "mlyid0z-TYPA"
      }
    },
    {
      "cell_type": "code",
      "source": [
        "#LArgest\n",
        "with beam.Pipeline() as pipeline:\n",
        "  largest_elements = (\n",
        "      pipeline\n",
        "      | 'Create numbers' >> beam.Create([3, 4, 1, 2])\n",
        "      | 'Largest N values' >> beam.combiners.Top.Largest(2)\n",
        "      | beam.Map(print))"
      ],
      "metadata": {
        "colab": {
          "base_uri": "https://localhost:8080/"
        },
        "id": "nMzHFhcgSym8",
        "outputId": "70a54cbd-002a-4607-f328-86aabe884988"
      },
      "execution_count": 34,
      "outputs": [
        {
          "output_type": "stream",
          "name": "stdout",
          "text": [
            "[4, 3]\n"
          ]
        }
      ]
    },
    {
      "cell_type": "code",
      "source": [
        "#for key-value pairs\n",
        "with beam.Pipeline() as pipeline:\n",
        "    largest_elements_per_key = (\n",
        "        pipeline\n",
        "        | 'Create produce' >> beam.Create([\n",
        "            ('🥕', 3),\n",
        "            ('🥕', 2),\n",
        "            ('🍆', 1),\n",
        "            ('🍅', 4),\n",
        "            ('🍅', 5),\n",
        "            ('🍅', 3),\n",
        "        ])\n",
        "        | 'Largest N values per key' >> beam.combiners.Top.LargestPerKey(2)\n",
        "        | beam.Map(print))"
      ],
      "metadata": {
        "colab": {
          "base_uri": "https://localhost:8080/"
        },
        "id": "mc_hKpohTlvY",
        "outputId": "647a8cba-eb96-48d2-8355-cb0dd26cebc5"
      },
      "execution_count": 35,
      "outputs": [
        {
          "output_type": "stream",
          "name": "stdout",
          "text": [
            "('🥕', [3, 2])\n",
            "('🍆', [1])\n",
            "('🍅', [5, 4])\n"
          ]
        }
      ]
    },
    {
      "cell_type": "code",
      "source": [
        "#Smallest\n",
        "with beam.Pipeline() as pipeline:\n",
        "  largest_elements = (\n",
        "      pipeline\n",
        "      | 'Create numbers' >> beam.Create([3, 4, 1, 2])\n",
        "      | 'Largest N values' >> beam.combiners.Top.Smallest(2)\n",
        "      | beam.Map(print))"
      ],
      "metadata": {
        "colab": {
          "base_uri": "https://localhost:8080/"
        },
        "id": "oyPqJHbyTsWJ",
        "outputId": "2e55094f-e0e9-4dc9-e103-98d8e2397329"
      },
      "execution_count": 36,
      "outputs": [
        {
          "output_type": "stream",
          "name": "stdout",
          "text": [
            "[1, 2]\n"
          ]
        }
      ]
    },
    {
      "cell_type": "code",
      "source": [
        "#for key-value pairs\n",
        "with beam.Pipeline() as pipeline:\n",
        "    largest_elements_per_key = (\n",
        "        pipeline\n",
        "        | 'Create produce' >> beam.Create([\n",
        "            ('🥕', 3),\n",
        "            ('🥕', 2),\n",
        "            ('🍆', 1),\n",
        "            ('🍅', 4),\n",
        "            ('🍅', 5),\n",
        "            ('🍅', 3),\n",
        "        ])\n",
        "        | 'Largest N values per key' >> beam.combiners.Top.SmallestPerKey(2)\n",
        "        | beam.Map(print))"
      ],
      "metadata": {
        "colab": {
          "base_uri": "https://localhost:8080/"
        },
        "id": "fPXzYrOFT3SN",
        "outputId": "c6f9ea8e-4a9d-4fef-a734-d568fc6c9362"
      },
      "execution_count": 37,
      "outputs": [
        {
          "output_type": "stream",
          "name": "stdout",
          "text": [
            "('🥕', [2, 3])\n",
            "('🍆', [1])\n",
            "('🍅', [3, 4])\n"
          ]
        }
      ]
    },
    {
      "cell_type": "markdown",
      "source": [
        "- We use Top.Of() to get elements with customized rules from the entire PCollection.\n",
        "- You can change how the elements are compared with key.\n",
        "- By default you get the largest elements, but you can get the smallest by setting reverse=True."
      ],
      "metadata": {
        "id": "azXFopL4UKCT"
      }
    },
    {
      "cell_type": "code",
      "source": [
        "with beam.Pipeline() as pipeline:\n",
        "    shortest_elements = (\n",
        "        pipeline\n",
        "        | 'Create produce names' >> beam.Create([\n",
        "            '🍓 Strawberry',\n",
        "            '🥕 Carrot',\n",
        "            '🍏 Green apple',\n",
        "            '🍆 Eggplant',\n",
        "            '🌽 Corn',\n",
        "        ])\n",
        "        | 'Shortest names' >> beam.combiners.Top.Of(\n",
        "            2,             # number of elements\n",
        "            key=len,       # optional, defaults to the element itself\n",
        "            reverse=True,  # optional, defaults to False (largest/descending)\n",
        "        )\n",
        "        | beam.Map(print)\n",
        "    )"
      ],
      "metadata": {
        "colab": {
          "base_uri": "https://localhost:8080/"
        },
        "id": "tMGGwhlWT605",
        "outputId": "b2642737-ed7a-4384-98ff-bb8ed6b12e90"
      },
      "execution_count": 38,
      "outputs": [
        {
          "output_type": "stream",
          "name": "stdout",
          "text": [
            "['🌽 Corn', '🥕 Carrot']\n"
          ]
        }
      ]
    },
    {
      "cell_type": "code",
      "source": [
        "with beam.Pipeline() as pipeline:\n",
        "    shortest_elements_per_key = (\n",
        "        pipeline\n",
        "        | 'Create produce names' >> beam.Create([\n",
        "            ('spring', '🥕 Carrot'),\n",
        "            ('spring', '🍓 Strawberry'),\n",
        "            ('summer', '🥕 Carrot'),\n",
        "            ('summer', '🌽 Corn'),\n",
        "            ('summer', '🍏 Green apple'),\n",
        "            ('fall', '🥕 Carrot'),\n",
        "            ('fall', '🍏 Green apple'),\n",
        "            ('winter', '🍆 Eggplant'),\n",
        "        ])\n",
        "        | 'Shortest names per key' >> beam.combiners.Top.PerKey(\n",
        "            2,             # number of elements\n",
        "            key=len,       # optional, defaults to the value itself\n",
        "            reverse=True,  # optional, defaults to False (largest/descending)\n",
        "        )\n",
        "        | beam.Map(print)\n",
        "    )"
      ],
      "metadata": {
        "colab": {
          "base_uri": "https://localhost:8080/"
        },
        "id": "CBTndK-PUQfB",
        "outputId": "03127662-ea45-48c2-bbd9-3f9808ec08eb"
      },
      "execution_count": 39,
      "outputs": [
        {
          "output_type": "stream",
          "name": "stdout",
          "text": [
            "('spring', ['🥕 Carrot', '🍓 Strawberry'])\n",
            "('summer', ['🌽 Corn', '🥕 Carrot'])\n",
            "('fall', ['🥕 Carrot', '🍏 Green apple'])\n",
            "('winter', ['🍆 Eggplant'])\n"
          ]
        }
      ]
    },
    {
      "cell_type": "code",
      "source": [],
      "metadata": {
        "id": "U4-GzX7RUW7Q"
      },
      "execution_count": null,
      "outputs": []
    }
  ]
}