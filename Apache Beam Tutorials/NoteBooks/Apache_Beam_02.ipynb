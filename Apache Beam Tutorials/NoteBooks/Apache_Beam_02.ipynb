{
  "nbformat": 4,
  "nbformat_minor": 0,
  "metadata": {
    "colab": {
      "provenance": []
    },
    "kernelspec": {
      "name": "python3",
      "display_name": "Python 3"
    },
    "language_info": {
      "name": "python"
    }
  },
  "cells": [
    {
      "cell_type": "markdown",
      "source": [
        "#PCollections\n",
        "\n",
        "- It is a dataset or datastream on which we can perform transformations in beam model.\n",
        "\n",
        "- It is an abstraction represents a potentially distributed, multi-element data set. It represents a distributed data set that our beam pipeline operates on.\n",
        "\n",
        "- It is immutable, transform applied on pcollection results in another pcollection.\n",
        "\n",
        "- Element must of same type, but can be of any type.\n",
        "\n",
        "- In many cases, the element type in a PCollection has a structure that can be introspected. Examples are JSON, Protocol Buffer, Avro, and database records. Schemas provide a way to express types as a set of named fields, allowing for more-expressive aggregations.\n",
        "\n",
        "- A PCollection does not support random access to individual elements. Instead, Beam Transforms consider every element in a PCollection individually.\n",
        "\n",
        "- Timestamps: Each element in pcollection has an associated timestamp with it."
      ],
      "metadata": {
        "id": "PqYa1M0bvqkq"
      }
    },
    {
      "cell_type": "code",
      "execution_count": null,
      "metadata": {
        "colab": {
          "base_uri": "https://localhost:8080/"
        },
        "id": "vavYoggnvWKD",
        "outputId": "9ebe79a1-277f-4e1e-b528-6b703771a9ac"
      },
      "outputs": [
        {
          "output_type": "stream",
          "name": "stdout",
          "text": [
            "/content/sample_data/first_pl.txt-00000-of-00001\n"
          ]
        }
      ],
      "source": [
        "#Pcollections\n",
        "import apache_beam as beam\n",
        "with beam.Pipeline() as p:\n",
        "  input = (\n",
        "      p\n",
        "      | \"Read Data\" >>beam.io.ReadFromText('/content/sample_data/grocery.txt',skip_header_lines=1)\n",
        "      | \"Apply Map\" >> beam.Map(lambda x : x.split(','))\n",
        "      | \"Apply Filter\" >> beam.Filter(lambda x : x[2] == 'Regular')\n",
        "      | \"Save Data\" >> beam.io.WriteToText('/content/sample_data/first_pl.txt')\n",
        "      | \"Print Result\" >> beam.Map(print)\n",
        "  )"
      ]
    },
    {
      "cell_type": "code",
      "source": [
        "#!cat /content/sample_data/first_pl.txt-00000-of-00001"
      ],
      "metadata": {
        "id": "oZGgRbTExQR9"
      },
      "execution_count": null,
      "outputs": []
    },
    {
      "cell_type": "markdown",
      "source": [
        "#PTransform in Beam\n",
        "\n",
        "- Transform are operations perfomed on pipeline. It applies a processing logic on every element of pcollection.\n",
        "\n",
        "- Transform involves concept of Aggregation, which is computing a value from multiple (1 or more) input elements. Works similar way like \"Reduce\" in MapReduce in hadoop.\n",
        "\n",
        "- We have various Transforms available in Beam Model. Such as ParDo,Combine and Composite Transforms."
      ],
      "metadata": {
        "id": "SMSwMBC218Zp"
      }
    },
    {
      "cell_type": "markdown",
      "source": [
        "1. Map: Applies a simple 1-to-1 mapping function over each element in the collection."
      ],
      "metadata": {
        "id": "2YptKSsa4n4g"
      }
    },
    {
      "cell_type": "code",
      "source": [
        "#using map with used defined function\n",
        "def Stripchars(text):\n",
        "  return text.strip('# \\n')\n",
        "\n",
        "\n",
        "with beam.Pipeline() as pipeline:\n",
        "  plants = (\n",
        "      pipeline\n",
        "      | 'Gardening plants' >> beam.Create([\n",
        "          '# 🍓Strawberry\\n',\n",
        "          '# 🥕Carrot\\n',\n",
        "          '# 🍆Eggplant\\n',\n",
        "          '# 🍅Tomato\\n',\n",
        "          '# 🥔Potato\\n',\n",
        "      ])\n",
        "      | 'Split Records' >> beam.Map(Stripchars)\n",
        "      | 'Print Records' >> beam.Map(print)\n",
        "  )"
      ],
      "metadata": {
        "colab": {
          "base_uri": "https://localhost:8080/"
        },
        "id": "whpHEDi6013G",
        "outputId": "431cc061-966e-489e-d470-e8c6df9dd010"
      },
      "execution_count": null,
      "outputs": [
        {
          "output_type": "stream",
          "name": "stdout",
          "text": [
            "🍓Strawberry\n",
            "🥕Carrot\n",
            "🍆Eggplant\n",
            "🍅Tomato\n",
            "🥔Potato\n"
          ]
        }
      ]
    },
    {
      "cell_type": "markdown",
      "source": [
        "- MapTuple is used when input is in form of Tuple, (key,value) pairs, etc."
      ],
      "metadata": {
        "id": "KK6rnmK1ATIi"
      }
    },
    {
      "cell_type": "code",
      "source": [
        "#MapTuple is used when input is in form of Tuple, (key,value) pairs, etc.\n",
        "with beam.Pipeline() as pipeline:\n",
        "  plants = (\n",
        "      pipeline\n",
        "      | 'Gardening plants' >> beam.Create([\n",
        "            ('🍓', 'Strawberry'),\n",
        "            ('🥕', 'Carrot'),\n",
        "            ('🍆', 'Eggplant'),\n",
        "            ('🍅', 'Tomato'),\n",
        "            ('🥔', 'Potato'),\n",
        "      ])\n",
        "      | 'Format key Value Pair' >> beam.MapTuple(lambda key,value : '{}{}'.format(key,value))\n",
        "      | 'Print Records' >> beam.Map(print)\n",
        "  )"
      ],
      "metadata": {
        "colab": {
          "base_uri": "https://localhost:8080/"
        },
        "id": "J8NucNel5G7T",
        "outputId": "56d381fc-5c16-46b7-f89d-de529348b0f6"
      },
      "execution_count": null,
      "outputs": [
        {
          "output_type": "stream",
          "name": "stdout",
          "text": [
            "🍓Strawberry\n",
            "🥕Carrot\n",
            "🍆Eggplant\n",
            "🍅Tomato\n",
            "🥔Potato\n"
          ]
        }
      ]
    },
    {
      "cell_type": "markdown",
      "source": [
        "2. FlatMap()\n",
        "\n",
        "- Applies a simple 1-to-many mapping function over each element in the collection. The many elements are flattened into the resulting collection.\n",
        "\n",
        "- FlatMap accepts a function that returns an iterable, where each of the output iterable’s elements is an element of the resulting PCollection.\n",
        "\n"
      ],
      "metadata": {
        "id": "EYi57ze99a9H"
      }
    },
    {
      "cell_type": "code",
      "source": [
        "#FlatMap with UDF\n",
        "def splitFunc(text):\n",
        "  return text.split(',')\n",
        "\n",
        "with beam.Pipeline() as pipeline:\n",
        "    plants = (\n",
        "        pipeline\n",
        "        | 'Gardening plants' >> beam.Create([\n",
        "            '🍓Strawberry,🥕Carrot,🍆Eggplant',\n",
        "            '🍅Tomato,🥔Potato',\n",
        "        ])\n",
        "        | 'Split words' >> beam.FlatMap(splitFunc)\n",
        "        | 'Print Records' >> beam.Map(print)\n",
        "  )"
      ],
      "metadata": {
        "colab": {
          "base_uri": "https://localhost:8080/"
        },
        "id": "H-CFdwyO8BZx",
        "outputId": "d681b766-4cad-46ad-9478-b6073364c354"
      },
      "execution_count": null,
      "outputs": [
        {
          "output_type": "stream",
          "name": "stdout",
          "text": [
            "🍓Strawberry\n",
            "🥕Carrot\n",
            "🍆Eggplant\n",
            "🍅Tomato\n",
            "🥔Potato\n"
          ]
        }
      ]
    },
    {
      "cell_type": "code",
      "source": [
        "#FlatMapTuple used when input is tuple, (key,value) pair\n",
        "def format_plant(icon,plant):\n",
        "  if icon:\n",
        "    yeild '{}{}'.format(key,value)\n",
        "\n",
        "with beam.Pipeline() as pipeline:\n",
        "    plants = (\n",
        "        pipeline\n",
        "        | 'Gardening plants' >> beam.Create([\n",
        "            ('🍓', 'Strawberry'),\n",
        "            ('🥕', 'Carrot'),\n",
        "            ('🍆', 'Eggplant'),\n",
        "            ('🍅', 'Tomato'),\n",
        "            ('🥔', 'Potato'),\n",
        "            (None, 'Invalid'),\n",
        "        ])\n",
        "        | 'Format' >> beam.FlatMapTuple(format_plant)\n",
        "        | beam.Map(print)\n",
        ")"
      ],
      "metadata": {
        "colab": {
          "base_uri": "https://localhost:8080/",
          "height": 110
        },
        "collapsed": true,
        "id": "HWLJrmo59Fvd",
        "outputId": "ed18be5f-dcbf-4da0-9ceb-b16c1e07e20a"
      },
      "execution_count": null,
      "outputs": [
        {
          "output_type": "error",
          "ename": "SyntaxError",
          "evalue": "invalid syntax (<ipython-input-22-5c5a622f94ae>, line 3)",
          "traceback": [
            "\u001b[0;36m  File \u001b[0;32m\"<ipython-input-22-5c5a622f94ae>\"\u001b[0;36m, line \u001b[0;32m3\u001b[0m\n\u001b[0;31m    return icon,value : '{}{}'.format(key,value)\u001b[0m\n\u001b[0m                      ^\u001b[0m\n\u001b[0;31mSyntaxError\u001b[0m\u001b[0;31m:\u001b[0m invalid syntax\n"
          ]
        }
      ]
    },
    {
      "cell_type": "code",
      "source": [
        "def split_words(text, delimiter=None):\n",
        "    return text.split(delimiter)\n",
        "\n",
        "with beam.Pipeline() as pipeline:\n",
        "  plants = (\n",
        "      pipeline\n",
        "      | 'Gardening plants' >> beam.Create([\n",
        "          '🍓Strawberry,🥕Carrot,🍆Eggplant',\n",
        "          '🍅Tomato,🥔Potato',\n",
        "      ])\n",
        "      | 'Split words' >> beam.FlatMap(split_words, delimiter=',')\n",
        "      | beam.Map(print))\n"
      ],
      "metadata": {
        "colab": {
          "base_uri": "https://localhost:8080/"
        },
        "id": "jZL2de-g_EXz",
        "outputId": "8dace890-8fb5-4142-d83d-c37be607e402"
      },
      "execution_count": null,
      "outputs": [
        {
          "output_type": "stream",
          "name": "stdout",
          "text": [
            "🍓Strawberry\n",
            "🥕Carrot\n",
            "🍆Eggplant\n",
            "🍅Tomato\n",
            "🥔Potato\n"
          ]
        }
      ]
    },
    {
      "cell_type": "markdown",
      "source": [
        "3. Filter()\n",
        "\n",
        "- Given a predicate, filter out all elements that don’t satisfy that predicate. May also be used to filter based on an inequality with a given value based on the comparison ordering of the element."
      ],
      "metadata": {
        "id": "9qoh0XV0_l4b"
      }
    },
    {
      "cell_type": "code",
      "source": [
        "#Filter with UDF\n",
        "def is_perennial(plant):\n",
        "  return plant['duration'] == 'perennial'\n",
        "\n",
        "with beam.Pipeline() as pipeline:\n",
        "  perennials = (\n",
        "      pipeline\n",
        "      | 'Gardening plants' >> beam.Create([\n",
        "          {\n",
        "              'icon': '🍓', 'name': 'Strawberry', 'duration': 'perennial'\n",
        "          },\n",
        "          {\n",
        "              'icon': '🥕', 'name': 'Carrot', 'duration': 'biennial'\n",
        "          },\n",
        "          {\n",
        "              'icon': '🍆', 'name': 'Eggplant', 'duration': 'perennial'\n",
        "          },\n",
        "          {\n",
        "              'icon': '🍅', 'name': 'Tomato', 'duration': 'annual'\n",
        "          },\n",
        "          {\n",
        "              'icon': '🥔', 'name': 'Potato', 'duration': 'perennial'\n",
        "          },\n",
        "      ])\n",
        "      | 'Filter perennials' >> beam.Filter(is_perennial)\n",
        "      | beam.Map(print))"
      ],
      "metadata": {
        "colab": {
          "base_uri": "https://localhost:8080/"
        },
        "id": "6xOedjWr-T9G",
        "outputId": "aadf41e3-6ae3-488a-9913-a75c6dbf5412"
      },
      "execution_count": null,
      "outputs": [
        {
          "output_type": "stream",
          "name": "stdout",
          "text": [
            "{'icon': '🍓', 'name': 'Strawberry', 'duration': 'perennial'}\n",
            "{'icon': '🍆', 'name': 'Eggplant', 'duration': 'perennial'}\n",
            "{'icon': '🥔', 'name': 'Potato', 'duration': 'perennial'}\n"
          ]
        }
      ]
    },
    {
      "cell_type": "code",
      "source": [
        "#Filtering with multiple arguments\n",
        "\n",
        "def has_duration(plant, duration):\n",
        "  return plant['duration'] == duration\n",
        "\n",
        "with beam.Pipeline() as pipeline:\n",
        "  perennials = (\n",
        "      pipeline\n",
        "      | 'Gardening plants' >> beam.Create([\n",
        "          {\n",
        "              'icon': '🍓', 'name': 'Strawberry', 'duration': 'perennial'\n",
        "          },\n",
        "          {\n",
        "              'icon': '🥕', 'name': 'Carrot', 'duration': 'biennial'\n",
        "          },\n",
        "          {\n",
        "              'icon': '🍆', 'name': 'Eggplant', 'duration': 'perennial'\n",
        "          },\n",
        "          {\n",
        "              'icon': '🍅', 'name': 'Tomato', 'duration': 'annual'\n",
        "          },\n",
        "          {\n",
        "              'icon': '🥔', 'name': 'Potato', 'duration': 'perennial'\n",
        "          },\n",
        "      ])\n",
        "      | 'Filter perennials' >> beam.Filter(has_duration, 'perennial')\n",
        "      | beam.Map(print))"
      ],
      "metadata": {
        "colab": {
          "base_uri": "https://localhost:8080/"
        },
        "id": "f04Marx-_s_q",
        "outputId": "ec9496ae-0ef5-4ccb-93af-f345316743ba"
      },
      "execution_count": null,
      "outputs": [
        {
          "output_type": "stream",
          "name": "stdout",
          "text": [
            "{'icon': '🍓', 'name': 'Strawberry', 'duration': 'perennial'}\n",
            "{'icon': '🍆', 'name': 'Eggplant', 'duration': 'perennial'}\n",
            "{'icon': '🥔', 'name': 'Potato', 'duration': 'perennial'}\n"
          ]
        }
      ]
    },
    {
      "cell_type": "code",
      "source": [],
      "metadata": {
        "id": "N3pxRc5QAJCn"
      },
      "execution_count": null,
      "outputs": []
    }
  ]
}