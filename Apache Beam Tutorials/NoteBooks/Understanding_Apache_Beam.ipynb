{
  "nbformat": 4,
  "nbformat_minor": 0,
  "metadata": {
    "colab": {
      "provenance": [],
      "toc_visible": true,
      "authorship_tag": "ABX9TyMHMyAXiClcxEC1FaTVYRKR",
      "include_colab_link": true
    },
    "kernelspec": {
      "name": "python3",
      "display_name": "Python 3"
    },
    "language_info": {
      "name": "python"
    }
  },
  "cells": [
    {
      "cell_type": "markdown",
      "metadata": {
        "id": "view-in-github",
        "colab_type": "text"
      },
      "source": [
        "<a href=\"https://colab.research.google.com/github/Rutikab12/Cloud_Data_Engineering/blob/main/Understanding_Apache_Beam.ipynb\" target=\"_parent\"><img src=\"https://colab.research.google.com/assets/colab-badge.svg\" alt=\"Open In Colab\"/></a>"
      ]
    },
    {
      "cell_type": "markdown",
      "source": [
        "#Understanding Apache Beam for Dataflow\n",
        "\n",
        "- It is a unified platform for batch and streaming process, unified meaning that u don't need to write separate SDK's for batch and stream process, logic made for either one works for other one also.\n",
        "- you can use any lang for writing logics python,java,etc\n",
        "- There are number of built in I/O functions for apache beam listed on apache beam documentation.\n",
        "--------------------------------------------------------------------------\n",
        "\n",
        "- What is PTransform(): Every ETL process is\n",
        "Extract --> Transform --> Load , in apache beam this Transformation is called as PTransform.\n",
        "-What is PCollection(): Whole collection extraction,ptransform,loading process is called as PCollection. It is referred as Variable that can store any data and any size of data, which is immutable.\n",
        "Immutable meaning for eg:\n",
        "A=[1,2,3], in transformation with added beam.map(a>1),output will be stored in A1=[2,3] not in A.\n",
        "\n",
        "--------------------------------------------------------------------------\n"
      ],
      "metadata": {
        "id": "pcF5Bc05Whd7"
      }
    },
    {
      "cell_type": "code",
      "execution_count": 1,
      "metadata": {
        "id": "SF5HWuNLJ2SC",
        "colab": {
          "base_uri": "https://localhost:8080/"
        },
        "collapsed": true,
        "outputId": "85d24ba7-6d11-4a7c-fba8-6812d82525f9"
      },
      "outputs": [
        {
          "output_type": "stream",
          "name": "stdout",
          "text": [
            "Collecting apache_beam\n",
            "  Downloading apache_beam-2.58.1-cp310-cp310-manylinux_2_17_x86_64.manylinux2014_x86_64.whl.metadata (7.5 kB)\n",
            "Collecting crcmod<2.0,>=1.7 (from apache_beam)\n",
            "  Downloading crcmod-1.7.tar.gz (89 kB)\n",
            "\u001b[2K     \u001b[90m━━━━━━━━━━━━━━━━━━━━━━━━━━━━━━━━━━━━━━━━\u001b[0m \u001b[32m89.7/89.7 kB\u001b[0m \u001b[31m1.9 MB/s\u001b[0m eta \u001b[36m0:00:00\u001b[0m\n",
            "\u001b[?25h  Preparing metadata (setup.py) ... \u001b[?25l\u001b[?25hdone\n",
            "Collecting orjson<4,>=3.9.7 (from apache_beam)\n",
            "  Downloading orjson-3.10.7-cp310-cp310-manylinux_2_17_x86_64.manylinux2014_x86_64.whl.metadata (50 kB)\n",
            "\u001b[2K     \u001b[90m━━━━━━━━━━━━━━━━━━━━━━━━━━━━━━━━━━━━━━━━\u001b[0m \u001b[32m50.4/50.4 kB\u001b[0m \u001b[31m3.7 MB/s\u001b[0m eta \u001b[36m0:00:00\u001b[0m\n",
            "\u001b[?25hCollecting dill<0.3.2,>=0.3.1.1 (from apache_beam)\n",
            "  Downloading dill-0.3.1.1.tar.gz (151 kB)\n",
            "\u001b[2K     \u001b[90m━━━━━━━━━━━━━━━━━━━━━━━━━━━━━━━━━━━━━━━━\u001b[0m \u001b[32m152.0/152.0 kB\u001b[0m \u001b[31m6.4 MB/s\u001b[0m eta \u001b[36m0:00:00\u001b[0m\n",
            "\u001b[?25h  Preparing metadata (setup.py) ... \u001b[?25l\u001b[?25hdone\n",
            "Requirement already satisfied: cloudpickle~=2.2.1 in /usr/local/lib/python3.10/dist-packages (from apache_beam) (2.2.1)\n",
            "Collecting fastavro<2,>=0.23.6 (from apache_beam)\n",
            "  Downloading fastavro-1.9.5-cp310-cp310-manylinux_2_17_x86_64.manylinux2014_x86_64.whl.metadata (5.5 kB)\n",
            "Collecting fasteners<1.0,>=0.3 (from apache_beam)\n",
            "  Downloading fasteners-0.19-py3-none-any.whl.metadata (4.9 kB)\n",
            "Requirement already satisfied: grpcio!=1.48.0,!=1.59.*,!=1.60.*,!=1.61.*,!=1.62.0,!=1.62.1,<2,>=1.33.1 in /usr/local/lib/python3.10/dist-packages (from apache_beam) (1.64.1)\n",
            "Collecting hdfs<3.0.0,>=2.1.0 (from apache_beam)\n",
            "  Downloading hdfs-2.7.3.tar.gz (43 kB)\n",
            "\u001b[2K     \u001b[90m━━━━━━━━━━━━━━━━━━━━━━━━━━━━━━━━━━━━━━━━\u001b[0m \u001b[32m43.5/43.5 kB\u001b[0m \u001b[31m4.0 MB/s\u001b[0m eta \u001b[36m0:00:00\u001b[0m\n",
            "\u001b[?25h  Preparing metadata (setup.py) ... \u001b[?25l\u001b[?25hdone\n",
            "Requirement already satisfied: httplib2<0.23.0,>=0.8 in /usr/local/lib/python3.10/dist-packages (from apache_beam) (0.22.0)\n",
            "Requirement already satisfied: jsonschema<5.0.0,>=4.0.0 in /usr/local/lib/python3.10/dist-packages (from apache_beam) (4.23.0)\n",
            "Requirement already satisfied: jsonpickle<4.0.0,>=3.0.0 in /usr/local/lib/python3.10/dist-packages (from apache_beam) (3.2.2)\n",
            "Requirement already satisfied: numpy<1.27.0,>=1.14.3 in /usr/local/lib/python3.10/dist-packages (from apache_beam) (1.26.4)\n",
            "Collecting objsize<0.8.0,>=0.6.1 (from apache_beam)\n",
            "  Downloading objsize-0.7.0-py3-none-any.whl.metadata (12 kB)\n",
            "Requirement already satisfied: packaging>=22.0 in /usr/local/lib/python3.10/dist-packages (from apache_beam) (24.1)\n",
            "Collecting pymongo<5.0.0,>=3.8.0 (from apache_beam)\n",
            "  Downloading pymongo-4.8.0-cp310-cp310-manylinux_2_17_x86_64.manylinux2014_x86_64.whl.metadata (22 kB)\n",
            "Requirement already satisfied: proto-plus<2,>=1.7.1 in /usr/local/lib/python3.10/dist-packages (from apache_beam) (1.24.0)\n",
            "Requirement already satisfied: protobuf!=4.0.*,!=4.21.*,!=4.22.0,!=4.23.*,!=4.24.*,<4.26.0,>=3.20.3 in /usr/local/lib/python3.10/dist-packages (from apache_beam) (3.20.3)\n",
            "Requirement already satisfied: pydot<2,>=1.2.0 in /usr/local/lib/python3.10/dist-packages (from apache_beam) (1.4.2)\n",
            "Requirement already satisfied: python-dateutil<3,>=2.8.0 in /usr/local/lib/python3.10/dist-packages (from apache_beam) (2.8.2)\n",
            "Requirement already satisfied: pytz>=2018.3 in /usr/local/lib/python3.10/dist-packages (from apache_beam) (2024.1)\n",
            "Collecting redis<6,>=5.0.0 (from apache_beam)\n",
            "  Downloading redis-5.0.8-py3-none-any.whl.metadata (9.2 kB)\n",
            "Requirement already satisfied: regex>=2020.6.8 in /usr/local/lib/python3.10/dist-packages (from apache_beam) (2024.5.15)\n",
            "Collecting requests!=2.32.*,<3.0.0,>=2.24.0 (from apache_beam)\n",
            "  Downloading requests-2.31.0-py3-none-any.whl.metadata (4.6 kB)\n",
            "Requirement already satisfied: typing-extensions>=3.7.0 in /usr/local/lib/python3.10/dist-packages (from apache_beam) (4.12.2)\n",
            "Collecting zstandard<1,>=0.18.0 (from apache_beam)\n",
            "  Downloading zstandard-0.23.0-cp310-cp310-manylinux_2_17_x86_64.manylinux2014_x86_64.whl.metadata (3.0 kB)\n",
            "Requirement already satisfied: pyarrow<17.0.0,>=3.0.0 in /usr/local/lib/python3.10/dist-packages (from apache_beam) (14.0.2)\n",
            "Requirement already satisfied: pyarrow-hotfix<1 in /usr/local/lib/python3.10/dist-packages (from apache_beam) (0.6)\n",
            "Collecting js2py<1,>=0.74 (from apache_beam)\n",
            "  Downloading Js2Py-0.74-py3-none-any.whl.metadata (868 bytes)\n",
            "Collecting docopt (from hdfs<3.0.0,>=2.1.0->apache_beam)\n",
            "  Downloading docopt-0.6.2.tar.gz (25 kB)\n",
            "  Preparing metadata (setup.py) ... \u001b[?25l\u001b[?25hdone\n",
            "Requirement already satisfied: six>=1.9.0 in /usr/local/lib/python3.10/dist-packages (from hdfs<3.0.0,>=2.1.0->apache_beam) (1.16.0)\n",
            "Requirement already satisfied: pyparsing!=3.0.0,!=3.0.1,!=3.0.2,!=3.0.3,<4,>=2.4.2 in /usr/local/lib/python3.10/dist-packages (from httplib2<0.23.0,>=0.8->apache_beam) (3.1.2)\n",
            "Requirement already satisfied: tzlocal>=1.2 in /usr/local/lib/python3.10/dist-packages (from js2py<1,>=0.74->apache_beam) (5.2)\n",
            "Collecting pyjsparser>=2.5.1 (from js2py<1,>=0.74->apache_beam)\n",
            "  Downloading pyjsparser-2.7.1.tar.gz (24 kB)\n",
            "  Preparing metadata (setup.py) ... \u001b[?25l\u001b[?25hdone\n",
            "Requirement already satisfied: attrs>=22.2.0 in /usr/local/lib/python3.10/dist-packages (from jsonschema<5.0.0,>=4.0.0->apache_beam) (24.2.0)\n",
            "Requirement already satisfied: jsonschema-specifications>=2023.03.6 in /usr/local/lib/python3.10/dist-packages (from jsonschema<5.0.0,>=4.0.0->apache_beam) (2023.12.1)\n",
            "Requirement already satisfied: referencing>=0.28.4 in /usr/local/lib/python3.10/dist-packages (from jsonschema<5.0.0,>=4.0.0->apache_beam) (0.35.1)\n",
            "Requirement already satisfied: rpds-py>=0.7.1 in /usr/local/lib/python3.10/dist-packages (from jsonschema<5.0.0,>=4.0.0->apache_beam) (0.20.0)\n",
            "Collecting dnspython<3.0.0,>=1.16.0 (from pymongo<5.0.0,>=3.8.0->apache_beam)\n",
            "  Downloading dnspython-2.6.1-py3-none-any.whl.metadata (5.8 kB)\n",
            "Requirement already satisfied: async-timeout>=4.0.3 in /usr/local/lib/python3.10/dist-packages (from redis<6,>=5.0.0->apache_beam) (4.0.3)\n",
            "Requirement already satisfied: charset-normalizer<4,>=2 in /usr/local/lib/python3.10/dist-packages (from requests!=2.32.*,<3.0.0,>=2.24.0->apache_beam) (3.3.2)\n",
            "Requirement already satisfied: idna<4,>=2.5 in /usr/local/lib/python3.10/dist-packages (from requests!=2.32.*,<3.0.0,>=2.24.0->apache_beam) (3.7)\n",
            "Requirement already satisfied: urllib3<3,>=1.21.1 in /usr/local/lib/python3.10/dist-packages (from requests!=2.32.*,<3.0.0,>=2.24.0->apache_beam) (2.0.7)\n",
            "Requirement already satisfied: certifi>=2017.4.17 in /usr/local/lib/python3.10/dist-packages (from requests!=2.32.*,<3.0.0,>=2.24.0->apache_beam) (2024.7.4)\n",
            "Downloading apache_beam-2.58.1-cp310-cp310-manylinux_2_17_x86_64.manylinux2014_x86_64.whl (14.6 MB)\n",
            "\u001b[2K   \u001b[90m━━━━━━━━━━━━━━━━━━━━━━━━━━━━━━━━━━━━━━━━\u001b[0m \u001b[32m14.6/14.6 MB\u001b[0m \u001b[31m57.9 MB/s\u001b[0m eta \u001b[36m0:00:00\u001b[0m\n",
            "\u001b[?25hDownloading fastavro-1.9.5-cp310-cp310-manylinux_2_17_x86_64.manylinux2014_x86_64.whl (3.1 MB)\n",
            "\u001b[2K   \u001b[90m━━━━━━━━━━━━━━━━━━━━━━━━━━━━━━━━━━━━━━━━\u001b[0m \u001b[32m3.1/3.1 MB\u001b[0m \u001b[31m66.3 MB/s\u001b[0m eta \u001b[36m0:00:00\u001b[0m\n",
            "\u001b[?25hDownloading fasteners-0.19-py3-none-any.whl (18 kB)\n",
            "Downloading Js2Py-0.74-py3-none-any.whl (1.0 MB)\n",
            "\u001b[2K   \u001b[90m━━━━━━━━━━━━━━━━━━━━━━━━━━━━━━━━━━━━━━━━\u001b[0m \u001b[32m1.0/1.0 MB\u001b[0m \u001b[31m47.2 MB/s\u001b[0m eta \u001b[36m0:00:00\u001b[0m\n",
            "\u001b[?25hDownloading objsize-0.7.0-py3-none-any.whl (11 kB)\n",
            "Downloading orjson-3.10.7-cp310-cp310-manylinux_2_17_x86_64.manylinux2014_x86_64.whl (141 kB)\n",
            "\u001b[2K   \u001b[90m━━━━━━━━━━━━━━━━━━━━━━━━━━━━━━━━━━━━━━━━\u001b[0m \u001b[32m141.9/141.9 kB\u001b[0m \u001b[31m7.0 MB/s\u001b[0m eta \u001b[36m0:00:00\u001b[0m\n",
            "\u001b[?25hDownloading pymongo-4.8.0-cp310-cp310-manylinux_2_17_x86_64.manylinux2014_x86_64.whl (1.2 MB)\n",
            "\u001b[2K   \u001b[90m━━━━━━━━━━━━━━━━━━━━━━━━━━━━━━━━━━━━━━━━\u001b[0m \u001b[32m1.2/1.2 MB\u001b[0m \u001b[31m49.5 MB/s\u001b[0m eta \u001b[36m0:00:00\u001b[0m\n",
            "\u001b[?25hDownloading redis-5.0.8-py3-none-any.whl (255 kB)\n",
            "\u001b[2K   \u001b[90m━━━━━━━━━━━━━━━━━━━━━━━━━━━━━━━━━━━━━━━━\u001b[0m \u001b[32m255.6/255.6 kB\u001b[0m \u001b[31m17.1 MB/s\u001b[0m eta \u001b[36m0:00:00\u001b[0m\n",
            "\u001b[?25hDownloading requests-2.31.0-py3-none-any.whl (62 kB)\n",
            "\u001b[2K   \u001b[90m━━━━━━━━━━━━━━━━━━━━━━━━━━━━━━━━━━━━━━━━\u001b[0m \u001b[32m62.6/62.6 kB\u001b[0m \u001b[31m5.8 MB/s\u001b[0m eta \u001b[36m0:00:00\u001b[0m\n",
            "\u001b[?25hDownloading zstandard-0.23.0-cp310-cp310-manylinux_2_17_x86_64.manylinux2014_x86_64.whl (5.4 MB)\n",
            "\u001b[2K   \u001b[90m━━━━━━━━━━━━━━━━━━━━━━━━━━━━━━━━━━━━━━━━\u001b[0m \u001b[32m5.4/5.4 MB\u001b[0m \u001b[31m53.5 MB/s\u001b[0m eta \u001b[36m0:00:00\u001b[0m\n",
            "\u001b[?25hDownloading dnspython-2.6.1-py3-none-any.whl (307 kB)\n",
            "\u001b[2K   \u001b[90m━━━━━━━━━━━━━━━━━━━━━━━━━━━━━━━━━━━━━━━━\u001b[0m \u001b[32m307.7/307.7 kB\u001b[0m \u001b[31m20.9 MB/s\u001b[0m eta \u001b[36m0:00:00\u001b[0m\n",
            "\u001b[?25hBuilding wheels for collected packages: crcmod, dill, hdfs, pyjsparser, docopt\n",
            "  Building wheel for crcmod (setup.py) ... \u001b[?25l\u001b[?25hdone\n",
            "  Created wheel for crcmod: filename=crcmod-1.7-cp310-cp310-linux_x86_64.whl size=31406 sha256=5dd4b49aaf2856555ead2d0ef75c67723a3a58a323678dbfe4d9ca4063d0258d\n",
            "  Stored in directory: /root/.cache/pip/wheels/85/4c/07/72215c529bd59d67e3dac29711d7aba1b692f543c808ba9e86\n",
            "  Building wheel for dill (setup.py) ... \u001b[?25l\u001b[?25hdone\n",
            "  Created wheel for dill: filename=dill-0.3.1.1-py3-none-any.whl size=78542 sha256=72eb7a71a186af5ca753b22ec47c0784b0201a854387518ef63e1c6ceff5b454\n",
            "  Stored in directory: /root/.cache/pip/wheels/ea/e2/86/64980d90e297e7bf2ce588c2b96e818f5399c515c4bb8a7e4f\n",
            "  Building wheel for hdfs (setup.py) ... \u001b[?25l\u001b[?25hdone\n",
            "  Created wheel for hdfs: filename=hdfs-2.7.3-py3-none-any.whl size=34325 sha256=5f23708693d1af17b8865b37135c40581ee8b3c21ca8f6d397ea170313c8d599\n",
            "  Stored in directory: /root/.cache/pip/wheels/e5/8d/b6/99c1c0a3ac5788c866b0ecd3f48b0134a5910e6ed26011800b\n",
            "  Building wheel for pyjsparser (setup.py) ... \u001b[?25l\u001b[?25hdone\n",
            "  Created wheel for pyjsparser: filename=pyjsparser-2.7.1-py3-none-any.whl size=25983 sha256=cddec6d416b6150791c8e9ada0cb8a3da7134918032361d879b782d1589c9af4\n",
            "  Stored in directory: /root/.cache/pip/wheels/5e/81/26/5956478df303e2bf5a85a5df595bb307bd25948a4bab69f7c7\n",
            "  Building wheel for docopt (setup.py) ... \u001b[?25l\u001b[?25hdone\n",
            "  Created wheel for docopt: filename=docopt-0.6.2-py2.py3-none-any.whl size=13704 sha256=9d6fb5eb99cd6e802bc859789cf60df60ca4e144a22dc5b0808504b56482caee\n",
            "  Stored in directory: /root/.cache/pip/wheels/fc/ab/d4/5da2067ac95b36618c629a5f93f809425700506f72c9732fac\n",
            "Successfully built crcmod dill hdfs pyjsparser docopt\n",
            "Installing collected packages: pyjsparser, docopt, crcmod, zstandard, requests, redis, orjson, objsize, js2py, fasteners, fastavro, dnspython, dill, pymongo, hdfs, apache_beam\n",
            "  Attempting uninstall: requests\n",
            "    Found existing installation: requests 2.32.3\n",
            "    Uninstalling requests-2.32.3:\n",
            "      Successfully uninstalled requests-2.32.3\n",
            "\u001b[31mERROR: pip's dependency resolver does not currently take into account all the packages that are installed. This behaviour is the source of the following dependency conflicts.\n",
            "google-colab 1.0.0 requires requests==2.32.3, but you have requests 2.31.0 which is incompatible.\u001b[0m\u001b[31m\n",
            "\u001b[0mSuccessfully installed apache_beam-2.58.1 crcmod-1.7 dill-0.3.1.1 dnspython-2.6.1 docopt-0.6.2 fastavro-1.9.5 fasteners-0.19 hdfs-2.7.3 js2py-0.74 objsize-0.7.0 orjson-3.10.7 pyjsparser-2.7.1 pymongo-4.8.0 redis-5.0.8 requests-2.31.0 zstandard-0.23.0\n"
          ]
        }
      ],
      "source": [
        "!pip install apache_beam\n",
        "import apache_beam as beam"
      ]
    },
    {
      "cell_type": "code",
      "source": [
        "#create or initialize pipeline\n",
        "pipe=beam.Pipeline()"
      ],
      "metadata": {
        "id": "2mbmm06iKC6k"
      },
      "execution_count": null,
      "outputs": []
    },
    {
      "cell_type": "code",
      "source": [
        "#create a variable to read file and do some transformation and print the data in it.\n",
        "io = (pipe\n",
        "      |beam.io.ReadFromText('/content/sample_data/user.csv',skip_header_lines=True)\n",
        "      |beam.Map(lambda x:x.split(','))\n",
        "      |beam.combiners.Count.Globally()\n",
        "      |beam.Map(print)\n",
        ")\n",
        "pipe.run()"
      ],
      "metadata": {
        "colab": {
          "base_uri": "https://localhost:8080/",
          "height": 607
        },
        "collapsed": true,
        "id": "DOh8kAn2K340",
        "outputId": "aaa3977f-f1a2-4a76-ff62-c17b34c10c0b"
      },
      "execution_count": null,
      "outputs": [
        {
          "output_type": "stream",
          "name": "stdout",
          "text": [
            "['Id', 'Name', 'Email', 'Post', 'City']\n",
            "['11', 'Mia Thompson', 'mia@example.com', '26', 'Denver']\n",
            "['12', 'Ethan Clark', 'ethan@example.com', '34', 'Phoenix']\n",
            "['13', 'Ava Rodriguez', 'ava@example.com', '29', 'San Diego']\n",
            "['14', 'Noah White', 'noah@example.com', '32', 'Portland']\n",
            "['15', 'Isabella Harris', 'isabella@example.com', '27', 'Detroit']\n"
          ]
        },
        {
          "output_type": "stream",
          "name": "stderr",
          "text": [
            "ERROR:apache_beam.runners.common:'BeamSchema_1d4d2ce4_9d7c_4299_bb10_856d80c4b294' object has no attribute 'strip' [while running '[24]: Map(<lambda at <ipython-input-24-9dc606cb8dc0>:4>)']\n",
            "Traceback (most recent call last):\n",
            "  File \"apache_beam/runners/common.py\", line 1435, in apache_beam.runners.common.DoFnRunner.process\n",
            "  File \"apache_beam/runners/common.py\", line 640, in apache_beam.runners.common.SimpleInvoker.invoke_process\n",
            "  File \"/usr/local/lib/python3.10/dist-packages/apache_beam/transforms/core.py\", line 1969, in <lambda>\n",
            "    wrapper = lambda x: [fn(x)]\n",
            "  File \"<ipython-input-24-9dc606cb8dc0>\", line 4, in <lambda>\n",
            "    |beam.Map(lambda x:x.strip(','))\n",
            "AttributeError: 'BeamSchema_1d4d2ce4_9d7c_4299_bb10_856d80c4b294' object has no attribute 'strip'\n"
          ]
        },
        {
          "output_type": "stream",
          "name": "stdout",
          "text": [
            "6\n",
            "5\n"
          ]
        },
        {
          "output_type": "error",
          "ename": "AttributeError",
          "evalue": "'BeamSchema_1d4d2ce4_9d7c_4299_bb10_856d80c4b294' object has no attribute 'strip' [while running '[24]: Map(<lambda at <ipython-input-24-9dc606cb8dc0>:4>)']",
          "traceback": [
            "\u001b[0;31m---------------------------------------------------------------------------\u001b[0m",
            "\u001b[0;31mAttributeError\u001b[0m                            Traceback (most recent call last)",
            "\u001b[0;32m/usr/local/lib/python3.10/dist-packages/apache_beam/runners/common.cpython-310-x86_64-linux-gnu.so\u001b[0m in \u001b[0;36mapache_beam.runners.common.DoFnRunner.process\u001b[0;34m()\u001b[0m\n",
            "\u001b[0;32m/usr/local/lib/python3.10/dist-packages/apache_beam/runners/common.cpython-310-x86_64-linux-gnu.so\u001b[0m in \u001b[0;36mapache_beam.runners.common.SimpleInvoker.invoke_process\u001b[0;34m()\u001b[0m\n",
            "\u001b[0;32m/usr/local/lib/python3.10/dist-packages/apache_beam/transforms/core.py\u001b[0m in \u001b[0;36m<lambda>\u001b[0;34m(x)\u001b[0m\n\u001b[1;32m   1968\u001b[0m   \u001b[0;32melse\u001b[0m\u001b[0;34m:\u001b[0m\u001b[0;34m\u001b[0m\u001b[0;34m\u001b[0m\u001b[0m\n\u001b[0;32m-> 1969\u001b[0;31m     \u001b[0mwrapper\u001b[0m \u001b[0;34m=\u001b[0m \u001b[0;32mlambda\u001b[0m \u001b[0mx\u001b[0m\u001b[0;34m:\u001b[0m \u001b[0;34m[\u001b[0m\u001b[0mfn\u001b[0m\u001b[0;34m(\u001b[0m\u001b[0mx\u001b[0m\u001b[0;34m)\u001b[0m\u001b[0;34m]\u001b[0m\u001b[0;34m\u001b[0m\u001b[0;34m\u001b[0m\u001b[0m\n\u001b[0m\u001b[1;32m   1970\u001b[0m \u001b[0;34m\u001b[0m\u001b[0m\n",
            "\u001b[0;32m<ipython-input-24-9dc606cb8dc0>\u001b[0m in \u001b[0;36m<lambda>\u001b[0;34m(x)\u001b[0m\n\u001b[1;32m      3\u001b[0m       \u001b[0;34m|\u001b[0m\u001b[0mbeam\u001b[0m\u001b[0;34m.\u001b[0m\u001b[0mio\u001b[0m\u001b[0;34m.\u001b[0m\u001b[0mReadFromCsv\u001b[0m\u001b[0;34m(\u001b[0m\u001b[0;34m'/content/sample_data/user.csv'\u001b[0m\u001b[0;34m)\u001b[0m\u001b[0;34m\u001b[0m\u001b[0;34m\u001b[0m\u001b[0m\n\u001b[0;32m----> 4\u001b[0;31m       \u001b[0;34m|\u001b[0m\u001b[0mbeam\u001b[0m\u001b[0;34m.\u001b[0m\u001b[0mMap\u001b[0m\u001b[0;34m(\u001b[0m\u001b[0;32mlambda\u001b[0m \u001b[0mx\u001b[0m\u001b[0;34m:\u001b[0m\u001b[0mx\u001b[0m\u001b[0;34m.\u001b[0m\u001b[0mstrip\u001b[0m\u001b[0;34m(\u001b[0m\u001b[0;34m','\u001b[0m\u001b[0;34m)\u001b[0m\u001b[0;34m)\u001b[0m\u001b[0;34m\u001b[0m\u001b[0;34m\u001b[0m\u001b[0m\n\u001b[0m\u001b[1;32m      5\u001b[0m       \u001b[0;34m|\u001b[0m\u001b[0mbeam\u001b[0m\u001b[0;34m.\u001b[0m\u001b[0mMap\u001b[0m\u001b[0;34m(\u001b[0m\u001b[0mprint\u001b[0m\u001b[0;34m)\u001b[0m\u001b[0;34m\u001b[0m\u001b[0;34m\u001b[0m\u001b[0m\n",
            "\u001b[0;31mAttributeError\u001b[0m: 'BeamSchema_1d4d2ce4_9d7c_4299_bb10_856d80c4b294' object has no attribute 'strip'",
            "\nDuring handling of the above exception, another exception occurred:\n",
            "\u001b[0;31mAttributeError\u001b[0m                            Traceback (most recent call last)",
            "\u001b[0;32m<ipython-input-29-736ad16f44bb>\u001b[0m in \u001b[0;36m<cell line: 8>\u001b[0;34m()\u001b[0m\n\u001b[1;32m      6\u001b[0m       \u001b[0;34m|\u001b[0m\u001b[0mbeam\u001b[0m\u001b[0;34m.\u001b[0m\u001b[0mMap\u001b[0m\u001b[0;34m(\u001b[0m\u001b[0mprint\u001b[0m\u001b[0;34m)\u001b[0m\u001b[0;34m\u001b[0m\u001b[0;34m\u001b[0m\u001b[0m\n\u001b[1;32m      7\u001b[0m )\n\u001b[0;32m----> 8\u001b[0;31m \u001b[0mpipe\u001b[0m\u001b[0;34m.\u001b[0m\u001b[0mrun\u001b[0m\u001b[0;34m(\u001b[0m\u001b[0;34m)\u001b[0m\u001b[0;34m\u001b[0m\u001b[0;34m\u001b[0m\u001b[0m\n\u001b[0m",
            "\u001b[0;32m/usr/local/lib/python3.10/dist-packages/apache_beam/pipeline.py\u001b[0m in \u001b[0;36mrun\u001b[0;34m(self, test_runner_api)\u001b[0m\n\u001b[1;32m    585\u001b[0m         \u001b[0;32mfinally\u001b[0m\u001b[0;34m:\u001b[0m\u001b[0;34m\u001b[0m\u001b[0;34m\u001b[0m\u001b[0m\n\u001b[1;32m    586\u001b[0m           \u001b[0mshutil\u001b[0m\u001b[0;34m.\u001b[0m\u001b[0mrmtree\u001b[0m\u001b[0;34m(\u001b[0m\u001b[0mtmpdir\u001b[0m\u001b[0;34m)\u001b[0m\u001b[0;34m\u001b[0m\u001b[0;34m\u001b[0m\u001b[0m\n\u001b[0;32m--> 587\u001b[0;31m       \u001b[0;32mreturn\u001b[0m \u001b[0mself\u001b[0m\u001b[0;34m.\u001b[0m\u001b[0mrunner\u001b[0m\u001b[0;34m.\u001b[0m\u001b[0mrun_pipeline\u001b[0m\u001b[0;34m(\u001b[0m\u001b[0mself\u001b[0m\u001b[0;34m,\u001b[0m \u001b[0mself\u001b[0m\u001b[0;34m.\u001b[0m\u001b[0m_options\u001b[0m\u001b[0;34m)\u001b[0m\u001b[0;34m\u001b[0m\u001b[0;34m\u001b[0m\u001b[0m\n\u001b[0m\u001b[1;32m    588\u001b[0m     \u001b[0;32mfinally\u001b[0m\u001b[0;34m:\u001b[0m\u001b[0;34m\u001b[0m\u001b[0;34m\u001b[0m\u001b[0m\n\u001b[1;32m    589\u001b[0m       \u001b[0;32mif\u001b[0m \u001b[0;32mnot\u001b[0m \u001b[0mis_in_ipython\u001b[0m\u001b[0;34m(\u001b[0m\u001b[0;34m)\u001b[0m\u001b[0;34m:\u001b[0m\u001b[0;34m\u001b[0m\u001b[0;34m\u001b[0m\u001b[0m\n",
            "\u001b[0;32m/usr/local/lib/python3.10/dist-packages/apache_beam/runners/direct/direct_runner.py\u001b[0m in \u001b[0;36mrun_pipeline\u001b[0;34m(self, pipeline, options)\u001b[0m\n\u001b[1;32m    126\u001b[0m       \u001b[0mrunner\u001b[0m \u001b[0;34m=\u001b[0m \u001b[0mBundleBasedDirectRunner\u001b[0m\u001b[0;34m(\u001b[0m\u001b[0;34m)\u001b[0m\u001b[0;34m\u001b[0m\u001b[0;34m\u001b[0m\u001b[0m\n\u001b[1;32m    127\u001b[0m \u001b[0;34m\u001b[0m\u001b[0m\n\u001b[0;32m--> 128\u001b[0;31m     \u001b[0;32mreturn\u001b[0m \u001b[0mrunner\u001b[0m\u001b[0;34m.\u001b[0m\u001b[0mrun_pipeline\u001b[0m\u001b[0;34m(\u001b[0m\u001b[0mpipeline\u001b[0m\u001b[0;34m,\u001b[0m \u001b[0moptions\u001b[0m\u001b[0;34m)\u001b[0m\u001b[0;34m\u001b[0m\u001b[0;34m\u001b[0m\u001b[0m\n\u001b[0m\u001b[1;32m    129\u001b[0m \u001b[0;34m\u001b[0m\u001b[0m\n\u001b[1;32m    130\u001b[0m \u001b[0;34m\u001b[0m\u001b[0m\n",
            "\u001b[0;32m/usr/local/lib/python3.10/dist-packages/apache_beam/runners/portability/fn_api_runner/fn_runner.py\u001b[0m in \u001b[0;36mrun_pipeline\u001b[0;34m(self, pipeline, options)\u001b[0m\n\u001b[1;32m    202\u001b[0m         options.view_as(pipeline_options.ProfilingOptions))\n\u001b[1;32m    203\u001b[0m \u001b[0;34m\u001b[0m\u001b[0m\n\u001b[0;32m--> 204\u001b[0;31m     self._latest_run_result = self.run_via_runner_api(\n\u001b[0m\u001b[1;32m    205\u001b[0m         \u001b[0mpipeline\u001b[0m\u001b[0;34m.\u001b[0m\u001b[0mto_runner_api\u001b[0m\u001b[0;34m(\u001b[0m\u001b[0mdefault_environment\u001b[0m\u001b[0;34m=\u001b[0m\u001b[0mself\u001b[0m\u001b[0;34m.\u001b[0m\u001b[0m_default_environment\u001b[0m\u001b[0;34m)\u001b[0m\u001b[0;34m,\u001b[0m\u001b[0;34m\u001b[0m\u001b[0;34m\u001b[0m\u001b[0m\n\u001b[1;32m    206\u001b[0m         options)\n",
            "\u001b[0;32m/usr/local/lib/python3.10/dist-packages/apache_beam/runners/portability/fn_api_runner/fn_runner.py\u001b[0m in \u001b[0;36mrun_via_runner_api\u001b[0;34m(self, pipeline_proto, options)\u001b[0m\n\u001b[1;32m    226\u001b[0m         self.resolve_any_environments(pipeline_proto))\n\u001b[1;32m    227\u001b[0m     \u001b[0mstage_context\u001b[0m\u001b[0;34m,\u001b[0m \u001b[0mstages\u001b[0m \u001b[0;34m=\u001b[0m \u001b[0mself\u001b[0m\u001b[0;34m.\u001b[0m\u001b[0mcreate_stages\u001b[0m\u001b[0;34m(\u001b[0m\u001b[0mpipeline_proto\u001b[0m\u001b[0;34m)\u001b[0m\u001b[0;34m\u001b[0m\u001b[0;34m\u001b[0m\u001b[0m\n\u001b[0;32m--> 228\u001b[0;31m     \u001b[0;32mreturn\u001b[0m \u001b[0mself\u001b[0m\u001b[0;34m.\u001b[0m\u001b[0mrun_stages\u001b[0m\u001b[0;34m(\u001b[0m\u001b[0mstage_context\u001b[0m\u001b[0;34m,\u001b[0m \u001b[0mstages\u001b[0m\u001b[0;34m)\u001b[0m\u001b[0;34m\u001b[0m\u001b[0;34m\u001b[0m\u001b[0m\n\u001b[0m\u001b[1;32m    229\u001b[0m \u001b[0;34m\u001b[0m\u001b[0m\n\u001b[1;32m    230\u001b[0m   \u001b[0;32mdef\u001b[0m \u001b[0membed_default_docker_image\u001b[0m\u001b[0;34m(\u001b[0m\u001b[0mself\u001b[0m\u001b[0;34m,\u001b[0m \u001b[0mpipeline_proto\u001b[0m\u001b[0;34m)\u001b[0m\u001b[0;34m:\u001b[0m\u001b[0;34m\u001b[0m\u001b[0;34m\u001b[0m\u001b[0m\n",
            "\u001b[0;32m/usr/local/lib/python3.10/dist-packages/apache_beam/runners/portability/fn_api_runner/fn_runner.py\u001b[0m in \u001b[0;36mrun_stages\u001b[0;34m(self, stage_context, stages)\u001b[0m\n\u001b[1;32m    481\u001b[0m \u001b[0;34m\u001b[0m\u001b[0m\n\u001b[1;32m    482\u001b[0m           \u001b[0mbundle_counter\u001b[0m \u001b[0;34m+=\u001b[0m \u001b[0;36m1\u001b[0m\u001b[0;34m\u001b[0m\u001b[0;34m\u001b[0m\u001b[0m\n\u001b[0;32m--> 483\u001b[0;31m           bundle_results = self._execute_bundle(\n\u001b[0m\u001b[1;32m    484\u001b[0m               runner_execution_context, bundle_context_manager, bundle_input)\n\u001b[1;32m    485\u001b[0m \u001b[0;34m\u001b[0m\u001b[0m\n",
            "\u001b[0;32m/usr/local/lib/python3.10/dist-packages/apache_beam/runners/portability/fn_api_runner/fn_runner.py\u001b[0m in \u001b[0;36m_execute_bundle\u001b[0;34m(self, runner_execution_context, bundle_context_manager, bundle_input)\u001b[0m\n\u001b[1;32m    809\u001b[0m \u001b[0;34m\u001b[0m\u001b[0m\n\u001b[1;32m    810\u001b[0m     last_result, deferred_inputs, newly_set_timers, watermark_updates = (\n\u001b[0;32m--> 811\u001b[0;31m         self._run_bundle(\n\u001b[0m\u001b[1;32m    812\u001b[0m             \u001b[0mrunner_execution_context\u001b[0m\u001b[0;34m,\u001b[0m\u001b[0;34m\u001b[0m\u001b[0;34m\u001b[0m\u001b[0m\n\u001b[1;32m    813\u001b[0m             \u001b[0mbundle_context_manager\u001b[0m\u001b[0;34m,\u001b[0m\u001b[0;34m\u001b[0m\u001b[0;34m\u001b[0m\u001b[0m\n",
            "\u001b[0;32m/usr/local/lib/python3.10/dist-packages/apache_beam/runners/portability/fn_api_runner/fn_runner.py\u001b[0m in \u001b[0;36m_run_bundle\u001b[0;34m(self, runner_execution_context, bundle_context_manager, bundle_input, data_output, expected_timer_output, bundle_manager)\u001b[0m\n\u001b[1;32m   1046\u001b[0m         expected_timer_output)\n\u001b[1;32m   1047\u001b[0m \u001b[0;34m\u001b[0m\u001b[0m\n\u001b[0;32m-> 1048\u001b[0;31m     result, splits = bundle_manager.process_bundle(\n\u001b[0m\u001b[1;32m   1049\u001b[0m         data_input, data_output, input_timers, expected_timer_output)\n\u001b[1;32m   1050\u001b[0m     \u001b[0;31m# Now we collect all the deferred inputs remaining from bundle execution.\u001b[0m\u001b[0;34m\u001b[0m\u001b[0;34m\u001b[0m\u001b[0m\n",
            "\u001b[0;32m/usr/local/lib/python3.10/dist-packages/apache_beam/runners/portability/fn_api_runner/fn_runner.py\u001b[0m in \u001b[0;36mprocess_bundle\u001b[0;34m(self, inputs, expected_outputs, fired_timers, expected_output_timers, dry_run)\u001b[0m\n\u001b[1;32m   1382\u001b[0m             \u001b[0mprocess_bundle_descriptor\u001b[0m\u001b[0;34m.\u001b[0m\u001b[0mid\u001b[0m\u001b[0;34m,\u001b[0m\u001b[0;34m\u001b[0m\u001b[0;34m\u001b[0m\u001b[0m\n\u001b[1;32m   1383\u001b[0m             cache_tokens=[next(self._cache_token_generator)]))\n\u001b[0;32m-> 1384\u001b[0;31m     \u001b[0mresult_future\u001b[0m \u001b[0;34m=\u001b[0m \u001b[0mself\u001b[0m\u001b[0;34m.\u001b[0m\u001b[0m_worker_handler\u001b[0m\u001b[0;34m.\u001b[0m\u001b[0mcontrol_conn\u001b[0m\u001b[0;34m.\u001b[0m\u001b[0mpush\u001b[0m\u001b[0;34m(\u001b[0m\u001b[0mprocess_bundle_req\u001b[0m\u001b[0;34m)\u001b[0m\u001b[0;34m\u001b[0m\u001b[0;34m\u001b[0m\u001b[0m\n\u001b[0m\u001b[1;32m   1385\u001b[0m \u001b[0;34m\u001b[0m\u001b[0m\n\u001b[1;32m   1386\u001b[0m     \u001b[0msplit_results\u001b[0m \u001b[0;34m=\u001b[0m \u001b[0;34m[\u001b[0m\u001b[0;34m]\u001b[0m  \u001b[0;31m# type: List[beam_fn_api_pb2.ProcessBundleSplitResponse]\u001b[0m\u001b[0;34m\u001b[0m\u001b[0;34m\u001b[0m\u001b[0m\n",
            "\u001b[0;32m/usr/local/lib/python3.10/dist-packages/apache_beam/runners/portability/fn_api_runner/worker_handlers.py\u001b[0m in \u001b[0;36mpush\u001b[0;34m(self, request)\u001b[0m\n\u001b[1;32m    382\u001b[0m       \u001b[0mself\u001b[0m\u001b[0;34m.\u001b[0m\u001b[0m_uid_counter\u001b[0m \u001b[0;34m+=\u001b[0m \u001b[0;36m1\u001b[0m\u001b[0;34m\u001b[0m\u001b[0;34m\u001b[0m\u001b[0m\n\u001b[1;32m    383\u001b[0m       \u001b[0mrequest\u001b[0m\u001b[0;34m.\u001b[0m\u001b[0minstruction_id\u001b[0m \u001b[0;34m=\u001b[0m \u001b[0;34m'control_%s'\u001b[0m \u001b[0;34m%\u001b[0m \u001b[0mself\u001b[0m\u001b[0;34m.\u001b[0m\u001b[0m_uid_counter\u001b[0m\u001b[0;34m\u001b[0m\u001b[0;34m\u001b[0m\u001b[0m\n\u001b[0;32m--> 384\u001b[0;31m     \u001b[0mresponse\u001b[0m \u001b[0;34m=\u001b[0m \u001b[0mself\u001b[0m\u001b[0;34m.\u001b[0m\u001b[0mworker\u001b[0m\u001b[0;34m.\u001b[0m\u001b[0mdo_instruction\u001b[0m\u001b[0;34m(\u001b[0m\u001b[0mrequest\u001b[0m\u001b[0;34m)\u001b[0m\u001b[0;34m\u001b[0m\u001b[0;34m\u001b[0m\u001b[0m\n\u001b[0m\u001b[1;32m    385\u001b[0m     \u001b[0;32mreturn\u001b[0m \u001b[0mControlFuture\u001b[0m\u001b[0;34m(\u001b[0m\u001b[0mrequest\u001b[0m\u001b[0;34m.\u001b[0m\u001b[0minstruction_id\u001b[0m\u001b[0;34m,\u001b[0m \u001b[0mresponse\u001b[0m\u001b[0;34m)\u001b[0m\u001b[0;34m\u001b[0m\u001b[0;34m\u001b[0m\u001b[0m\n\u001b[1;32m    386\u001b[0m \u001b[0;34m\u001b[0m\u001b[0m\n",
            "\u001b[0;32m/usr/local/lib/python3.10/dist-packages/apache_beam/runners/worker/sdk_worker.py\u001b[0m in \u001b[0;36mdo_instruction\u001b[0;34m(self, request)\u001b[0m\n\u001b[1;32m    654\u001b[0m     \u001b[0;32mif\u001b[0m \u001b[0mrequest_type\u001b[0m\u001b[0;34m:\u001b[0m\u001b[0;34m\u001b[0m\u001b[0;34m\u001b[0m\u001b[0m\n\u001b[1;32m    655\u001b[0m       \u001b[0;31m# E.g. if register is set, this will call self.register(request.register))\u001b[0m\u001b[0;34m\u001b[0m\u001b[0;34m\u001b[0m\u001b[0m\n\u001b[0;32m--> 656\u001b[0;31m       return getattr(self, request_type)(\n\u001b[0m\u001b[1;32m    657\u001b[0m           getattr(request, request_type), request.instruction_id)\n\u001b[1;32m    658\u001b[0m     \u001b[0;32melse\u001b[0m\u001b[0;34m:\u001b[0m\u001b[0;34m\u001b[0m\u001b[0;34m\u001b[0m\u001b[0m\n",
            "\u001b[0;32m/usr/local/lib/python3.10/dist-packages/apache_beam/runners/worker/sdk_worker.py\u001b[0m in \u001b[0;36mprocess_bundle\u001b[0;34m(self, request, instruction_id)\u001b[0m\n\u001b[1;32m    692\u001b[0m         \u001b[0;32mwith\u001b[0m \u001b[0mself\u001b[0m\u001b[0;34m.\u001b[0m\u001b[0mmaybe_profile\u001b[0m\u001b[0;34m(\u001b[0m\u001b[0minstruction_id\u001b[0m\u001b[0;34m)\u001b[0m\u001b[0;34m:\u001b[0m\u001b[0;34m\u001b[0m\u001b[0;34m\u001b[0m\u001b[0m\n\u001b[1;32m    693\u001b[0m           delayed_applications, requests_finalization = (\n\u001b[0;32m--> 694\u001b[0;31m               bundle_processor.process_bundle(instruction_id))\n\u001b[0m\u001b[1;32m    695\u001b[0m           \u001b[0mmonitoring_infos\u001b[0m \u001b[0;34m=\u001b[0m \u001b[0mbundle_processor\u001b[0m\u001b[0;34m.\u001b[0m\u001b[0mmonitoring_infos\u001b[0m\u001b[0;34m(\u001b[0m\u001b[0;34m)\u001b[0m\u001b[0;34m\u001b[0m\u001b[0;34m\u001b[0m\u001b[0m\n\u001b[1;32m    696\u001b[0m           response = beam_fn_api_pb2.InstructionResponse(\n",
            "\u001b[0;32m/usr/local/lib/python3.10/dist-packages/apache_beam/runners/worker/bundle_processor.py\u001b[0m in \u001b[0;36mprocess_bundle\u001b[0;34m(self, instruction_id)\u001b[0m\n\u001b[1;32m   1117\u001b[0m                   element.timer_family_id, timer_data)\n\u001b[1;32m   1118\u001b[0m           \u001b[0;32melif\u001b[0m \u001b[0misinstance\u001b[0m\u001b[0;34m(\u001b[0m\u001b[0melement\u001b[0m\u001b[0;34m,\u001b[0m \u001b[0mbeam_fn_api_pb2\u001b[0m\u001b[0;34m.\u001b[0m\u001b[0mElements\u001b[0m\u001b[0;34m.\u001b[0m\u001b[0mData\u001b[0m\u001b[0;34m)\u001b[0m\u001b[0;34m:\u001b[0m\u001b[0;34m\u001b[0m\u001b[0;34m\u001b[0m\u001b[0m\n\u001b[0;32m-> 1119\u001b[0;31m             input_op_by_transform_id[element.transform_id].process_encoded(\n\u001b[0m\u001b[1;32m   1120\u001b[0m                 element.data)\n\u001b[1;32m   1121\u001b[0m           \u001b[0;31m# We are done consuming the set of elements.\u001b[0m\u001b[0;34m\u001b[0m\u001b[0;34m\u001b[0m\u001b[0m\n",
            "\u001b[0;32m/usr/local/lib/python3.10/dist-packages/apache_beam/runners/worker/bundle_processor.py\u001b[0m in \u001b[0;36mprocess_encoded\u001b[0;34m(self, encoded_windowed_values)\u001b[0m\n\u001b[1;32m    235\u001b[0m             \u001b[0;34m\"Error decoding input stream with coder \"\u001b[0m \u001b[0;34m+\u001b[0m\u001b[0;34m\u001b[0m\u001b[0;34m\u001b[0m\u001b[0m\n\u001b[1;32m    236\u001b[0m             str(self.windowed_coder)) from exn\n\u001b[0;32m--> 237\u001b[0;31m       \u001b[0mself\u001b[0m\u001b[0;34m.\u001b[0m\u001b[0moutput\u001b[0m\u001b[0;34m(\u001b[0m\u001b[0mdecoded_value\u001b[0m\u001b[0;34m)\u001b[0m\u001b[0;34m\u001b[0m\u001b[0;34m\u001b[0m\u001b[0m\n\u001b[0m\u001b[1;32m    238\u001b[0m \u001b[0;34m\u001b[0m\u001b[0m\n\u001b[1;32m    239\u001b[0m   \u001b[0;32mdef\u001b[0m \u001b[0mmonitoring_infos\u001b[0m\u001b[0;34m(\u001b[0m\u001b[0mself\u001b[0m\u001b[0;34m,\u001b[0m \u001b[0mtransform_id\u001b[0m\u001b[0;34m,\u001b[0m \u001b[0mtag_to_pcollection_id\u001b[0m\u001b[0;34m)\u001b[0m\u001b[0;34m:\u001b[0m\u001b[0;34m\u001b[0m\u001b[0;34m\u001b[0m\u001b[0m\n",
            "\u001b[0;32m/usr/local/lib/python3.10/dist-packages/apache_beam/runners/worker/operations.cpython-310-x86_64-linux-gnu.so\u001b[0m in \u001b[0;36mapache_beam.runners.worker.operations.Operation.output\u001b[0;34m()\u001b[0m\n",
            "\u001b[0;32m/usr/local/lib/python3.10/dist-packages/apache_beam/runners/worker/operations.cpython-310-x86_64-linux-gnu.so\u001b[0m in \u001b[0;36mapache_beam.runners.worker.operations.Operation.output\u001b[0;34m()\u001b[0m\n",
            "\u001b[0;32m/usr/local/lib/python3.10/dist-packages/apache_beam/runners/worker/operations.cpython-310-x86_64-linux-gnu.so\u001b[0m in \u001b[0;36mapache_beam.runners.worker.operations.SingletonElementConsumerSet.receive\u001b[0;34m()\u001b[0m\n",
            "\u001b[0;32m/usr/local/lib/python3.10/dist-packages/apache_beam/runners/worker/operations.cpython-310-x86_64-linux-gnu.so\u001b[0m in \u001b[0;36mapache_beam.runners.worker.operations.SingletonElementConsumerSet.receive\u001b[0;34m()\u001b[0m\n",
            "\u001b[0;32m/usr/local/lib/python3.10/dist-packages/apache_beam/runners/worker/operations.cpython-310-x86_64-linux-gnu.so\u001b[0m in \u001b[0;36mapache_beam.runners.worker.operations.SdfProcessSizedElements.process\u001b[0;34m()\u001b[0m\n",
            "\u001b[0;32m/usr/local/lib/python3.10/dist-packages/apache_beam/runners/worker/operations.cpython-310-x86_64-linux-gnu.so\u001b[0m in \u001b[0;36mapache_beam.runners.worker.operations.SdfProcessSizedElements.process\u001b[0;34m()\u001b[0m\n",
            "\u001b[0;32m/usr/local/lib/python3.10/dist-packages/apache_beam/runners/common.cpython-310-x86_64-linux-gnu.so\u001b[0m in \u001b[0;36mapache_beam.runners.common.DoFnRunner.process_with_sized_restriction\u001b[0;34m()\u001b[0m\n",
            "\u001b[0;32m/usr/local/lib/python3.10/dist-packages/apache_beam/runners/common.cpython-310-x86_64-linux-gnu.so\u001b[0m in \u001b[0;36mapache_beam.runners.common.PerWindowInvoker.invoke_process\u001b[0;34m()\u001b[0m\n",
            "\u001b[0;32m/usr/local/lib/python3.10/dist-packages/apache_beam/runners/common.cpython-310-x86_64-linux-gnu.so\u001b[0m in \u001b[0;36mapache_beam.runners.common.PerWindowInvoker._invoke_process_per_window\u001b[0;34m()\u001b[0m\n",
            "\u001b[0;32m/usr/local/lib/python3.10/dist-packages/apache_beam/runners/common.cpython-310-x86_64-linux-gnu.so\u001b[0m in \u001b[0;36mapache_beam.runners.common._OutputHandler.handle_process_outputs\u001b[0;34m()\u001b[0m\n",
            "\u001b[0;32m/usr/local/lib/python3.10/dist-packages/apache_beam/runners/common.cpython-310-x86_64-linux-gnu.so\u001b[0m in \u001b[0;36mapache_beam.runners.common._OutputHandler._write_value_to_tag\u001b[0;34m()\u001b[0m\n",
            "\u001b[0;32m/usr/local/lib/python3.10/dist-packages/apache_beam/runners/worker/operations.cpython-310-x86_64-linux-gnu.so\u001b[0m in \u001b[0;36mapache_beam.runners.worker.operations.SingletonElementConsumerSet.receive\u001b[0;34m()\u001b[0m\n",
            "\u001b[0;32m/usr/local/lib/python3.10/dist-packages/apache_beam/runners/worker/operations.cpython-310-x86_64-linux-gnu.so\u001b[0m in \u001b[0;36mapache_beam.runners.worker.operations.DoOperation.process\u001b[0;34m()\u001b[0m\n",
            "\u001b[0;32m/usr/local/lib/python3.10/dist-packages/apache_beam/runners/worker/operations.cpython-310-x86_64-linux-gnu.so\u001b[0m in \u001b[0;36mapache_beam.runners.worker.operations.DoOperation.process\u001b[0;34m()\u001b[0m\n",
            "\u001b[0;32m/usr/local/lib/python3.10/dist-packages/apache_beam/runners/common.cpython-310-x86_64-linux-gnu.so\u001b[0m in \u001b[0;36mapache_beam.runners.common.DoFnRunner.process\u001b[0;34m()\u001b[0m\n",
            "\u001b[0;32m/usr/local/lib/python3.10/dist-packages/apache_beam/runners/common.cpython-310-x86_64-linux-gnu.so\u001b[0m in \u001b[0;36mapache_beam.runners.common.DoFnRunner._reraise_augmented\u001b[0;34m()\u001b[0m\n",
            "\u001b[0;32m/usr/local/lib/python3.10/dist-packages/apache_beam/runners/common.cpython-310-x86_64-linux-gnu.so\u001b[0m in \u001b[0;36mapache_beam.runners.common.DoFnRunner.process\u001b[0;34m()\u001b[0m\n",
            "\u001b[0;32m/usr/local/lib/python3.10/dist-packages/apache_beam/runners/common.cpython-310-x86_64-linux-gnu.so\u001b[0m in \u001b[0;36mapache_beam.runners.common.SimpleInvoker.invoke_process\u001b[0;34m()\u001b[0m\n",
            "\u001b[0;32m/usr/local/lib/python3.10/dist-packages/apache_beam/runners/common.cpython-310-x86_64-linux-gnu.so\u001b[0m in \u001b[0;36mapache_beam.runners.common._OutputHandler.handle_process_outputs\u001b[0;34m()\u001b[0m\n",
            "\u001b[0;32m/usr/local/lib/python3.10/dist-packages/apache_beam/runners/common.cpython-310-x86_64-linux-gnu.so\u001b[0m in \u001b[0;36mapache_beam.runners.common._OutputHandler._write_value_to_tag\u001b[0;34m()\u001b[0m\n",
            "\u001b[0;32m/usr/local/lib/python3.10/dist-packages/apache_beam/runners/worker/operations.cpython-310-x86_64-linux-gnu.so\u001b[0m in \u001b[0;36mapache_beam.runners.worker.operations.SingletonElementConsumerSet.receive\u001b[0;34m()\u001b[0m\n",
            "\u001b[0;32m/usr/local/lib/python3.10/dist-packages/apache_beam/runners/worker/operations.cpython-310-x86_64-linux-gnu.so\u001b[0m in \u001b[0;36mapache_beam.runners.worker.operations.DoOperation.process\u001b[0;34m()\u001b[0m\n",
            "\u001b[0;32m/usr/local/lib/python3.10/dist-packages/apache_beam/runners/worker/operations.cpython-310-x86_64-linux-gnu.so\u001b[0m in \u001b[0;36mapache_beam.runners.worker.operations.DoOperation.process\u001b[0;34m()\u001b[0m\n",
            "\u001b[0;32m/usr/local/lib/python3.10/dist-packages/apache_beam/runners/common.cpython-310-x86_64-linux-gnu.so\u001b[0m in \u001b[0;36mapache_beam.runners.common.DoFnRunner.process\u001b[0;34m()\u001b[0m\n",
            "\u001b[0;32m/usr/local/lib/python3.10/dist-packages/apache_beam/runners/common.cpython-310-x86_64-linux-gnu.so\u001b[0m in \u001b[0;36mapache_beam.runners.common.DoFnRunner._reraise_augmented\u001b[0;34m()\u001b[0m\n",
            "\u001b[0;32m/usr/local/lib/python3.10/dist-packages/apache_beam/runners/common.cpython-310-x86_64-linux-gnu.so\u001b[0m in \u001b[0;36mapache_beam.runners.common.DoFnRunner.process\u001b[0;34m()\u001b[0m\n",
            "\u001b[0;32m/usr/local/lib/python3.10/dist-packages/apache_beam/runners/common.cpython-310-x86_64-linux-gnu.so\u001b[0m in \u001b[0;36mapache_beam.runners.common.PerWindowInvoker.invoke_process\u001b[0;34m()\u001b[0m\n",
            "\u001b[0;32m/usr/local/lib/python3.10/dist-packages/apache_beam/runners/common.cpython-310-x86_64-linux-gnu.so\u001b[0m in \u001b[0;36mapache_beam.runners.common.PerWindowInvoker._invoke_process_per_window\u001b[0;34m()\u001b[0m\n",
            "\u001b[0;32m/usr/local/lib/python3.10/dist-packages/apache_beam/runners/common.cpython-310-x86_64-linux-gnu.so\u001b[0m in \u001b[0;36mapache_beam.runners.common._OutputHandler.handle_process_outputs\u001b[0;34m()\u001b[0m\n",
            "\u001b[0;32m/usr/local/lib/python3.10/dist-packages/apache_beam/runners/common.cpython-310-x86_64-linux-gnu.so\u001b[0m in \u001b[0;36mapache_beam.runners.common._OutputHandler._write_value_to_tag\u001b[0;34m()\u001b[0m\n",
            "\u001b[0;32m/usr/local/lib/python3.10/dist-packages/apache_beam/runners/worker/operations.cpython-310-x86_64-linux-gnu.so\u001b[0m in \u001b[0;36mapache_beam.runners.worker.operations.SingletonElementConsumerSet.receive\u001b[0;34m()\u001b[0m\n",
            "\u001b[0;32m/usr/local/lib/python3.10/dist-packages/apache_beam/runners/worker/operations.cpython-310-x86_64-linux-gnu.so\u001b[0m in \u001b[0;36mapache_beam.runners.worker.operations.SingletonElementConsumerSet.receive\u001b[0;34m()\u001b[0m\n",
            "\u001b[0;32m/usr/local/lib/python3.10/dist-packages/apache_beam/runners/worker/operations.cpython-310-x86_64-linux-gnu.so\u001b[0m in \u001b[0;36mapache_beam.runners.worker.operations.DoOperation.process\u001b[0;34m()\u001b[0m\n",
            "\u001b[0;32m/usr/local/lib/python3.10/dist-packages/apache_beam/runners/worker/operations.cpython-310-x86_64-linux-gnu.so\u001b[0m in \u001b[0;36mapache_beam.runners.worker.operations.DoOperation.process\u001b[0;34m()\u001b[0m\n",
            "\u001b[0;32m/usr/local/lib/python3.10/dist-packages/apache_beam/runners/common.cpython-310-x86_64-linux-gnu.so\u001b[0m in \u001b[0;36mapache_beam.runners.common.DoFnRunner.process\u001b[0;34m()\u001b[0m\n",
            "\u001b[0;32m/usr/local/lib/python3.10/dist-packages/apache_beam/runners/common.cpython-310-x86_64-linux-gnu.so\u001b[0m in \u001b[0;36mapache_beam.runners.common.DoFnRunner._reraise_augmented\u001b[0;34m()\u001b[0m\n",
            "\u001b[0;32m/usr/local/lib/python3.10/dist-packages/apache_beam/runners/common.cpython-310-x86_64-linux-gnu.so\u001b[0m in \u001b[0;36mapache_beam.runners.common.DoFnRunner.process\u001b[0;34m()\u001b[0m\n",
            "\u001b[0;32m/usr/local/lib/python3.10/dist-packages/apache_beam/runners/common.cpython-310-x86_64-linux-gnu.so\u001b[0m in \u001b[0;36mapache_beam.runners.common.SimpleInvoker.invoke_process\u001b[0;34m()\u001b[0m\n",
            "\u001b[0;32m/usr/local/lib/python3.10/dist-packages/apache_beam/runners/common.cpython-310-x86_64-linux-gnu.so\u001b[0m in \u001b[0;36mapache_beam.runners.common._OutputHandler.handle_process_outputs\u001b[0;34m()\u001b[0m\n",
            "\u001b[0;32m/usr/local/lib/python3.10/dist-packages/apache_beam/runners/common.cpython-310-x86_64-linux-gnu.so\u001b[0m in \u001b[0;36mapache_beam.runners.common._OutputHandler._write_batch_to_tag\u001b[0;34m()\u001b[0m\n",
            "\u001b[0;32m/usr/local/lib/python3.10/dist-packages/apache_beam/runners/worker/operations.cpython-310-x86_64-linux-gnu.so\u001b[0m in \u001b[0;36mapache_beam.runners.worker.operations.GeneralPurposeConsumerSet.receive_batch\u001b[0;34m()\u001b[0m\n",
            "\u001b[0;32m/usr/local/lib/python3.10/dist-packages/apache_beam/runners/worker/operations.cpython-310-x86_64-linux-gnu.so\u001b[0m in \u001b[0;36mapache_beam.runners.worker.operations.DoOperation.process\u001b[0;34m()\u001b[0m\n",
            "\u001b[0;32m/usr/local/lib/python3.10/dist-packages/apache_beam/runners/worker/operations.cpython-310-x86_64-linux-gnu.so\u001b[0m in \u001b[0;36mapache_beam.runners.worker.operations.DoOperation.process\u001b[0;34m()\u001b[0m\n",
            "\u001b[0;32m/usr/local/lib/python3.10/dist-packages/apache_beam/runners/worker/operations.cpython-310-x86_64-linux-gnu.so\u001b[0m in \u001b[0;36mapache_beam.runners.worker.operations.DoOperation.process\u001b[0;34m()\u001b[0m\n",
            "\u001b[0;32m/usr/local/lib/python3.10/dist-packages/apache_beam/runners/common.cpython-310-x86_64-linux-gnu.so\u001b[0m in \u001b[0;36mapache_beam.runners.common.DoFnRunner.process\u001b[0;34m()\u001b[0m\n",
            "\u001b[0;32m/usr/local/lib/python3.10/dist-packages/apache_beam/runners/common.cpython-310-x86_64-linux-gnu.so\u001b[0m in \u001b[0;36mapache_beam.runners.common.DoFnRunner._reraise_augmented\u001b[0;34m()\u001b[0m\n",
            "\u001b[0;32m/usr/local/lib/python3.10/dist-packages/apache_beam/runners/common.cpython-310-x86_64-linux-gnu.so\u001b[0m in \u001b[0;36mapache_beam.runners.common.DoFnRunner.process\u001b[0;34m()\u001b[0m\n",
            "\u001b[0;32m/usr/local/lib/python3.10/dist-packages/apache_beam/runners/common.cpython-310-x86_64-linux-gnu.so\u001b[0m in \u001b[0;36mapache_beam.runners.common.SimpleInvoker.invoke_process\u001b[0;34m()\u001b[0m\n",
            "\u001b[0;32m/usr/local/lib/python3.10/dist-packages/apache_beam/transforms/core.py\u001b[0m in \u001b[0;36m<lambda>\u001b[0;34m(x)\u001b[0m\n\u001b[1;32m   1967\u001b[0m     \u001b[0mwrapper\u001b[0m \u001b[0;34m=\u001b[0m \u001b[0;32mlambda\u001b[0m \u001b[0mx\u001b[0m\u001b[0;34m,\u001b[0m \u001b[0;34m*\u001b[0m\u001b[0margs\u001b[0m\u001b[0;34m,\u001b[0m \u001b[0;34m**\u001b[0m\u001b[0mkwargs\u001b[0m\u001b[0;34m:\u001b[0m \u001b[0;34m[\u001b[0m\u001b[0mfn\u001b[0m\u001b[0;34m(\u001b[0m\u001b[0mx\u001b[0m\u001b[0;34m,\u001b[0m \u001b[0;34m*\u001b[0m\u001b[0margs\u001b[0m\u001b[0;34m,\u001b[0m \u001b[0;34m**\u001b[0m\u001b[0mkwargs\u001b[0m\u001b[0;34m)\u001b[0m\u001b[0;34m]\u001b[0m\u001b[0;34m\u001b[0m\u001b[0;34m\u001b[0m\u001b[0m\n\u001b[1;32m   1968\u001b[0m   \u001b[0;32melse\u001b[0m\u001b[0;34m:\u001b[0m\u001b[0;34m\u001b[0m\u001b[0;34m\u001b[0m\u001b[0m\n\u001b[0;32m-> 1969\u001b[0;31m     \u001b[0mwrapper\u001b[0m \u001b[0;34m=\u001b[0m \u001b[0;32mlambda\u001b[0m \u001b[0mx\u001b[0m\u001b[0;34m:\u001b[0m \u001b[0;34m[\u001b[0m\u001b[0mfn\u001b[0m\u001b[0;34m(\u001b[0m\u001b[0mx\u001b[0m\u001b[0;34m)\u001b[0m\u001b[0;34m]\u001b[0m\u001b[0;34m\u001b[0m\u001b[0;34m\u001b[0m\u001b[0m\n\u001b[0m\u001b[1;32m   1970\u001b[0m \u001b[0;34m\u001b[0m\u001b[0m\n\u001b[1;32m   1971\u001b[0m   \u001b[0mlabel\u001b[0m \u001b[0;34m=\u001b[0m \u001b[0;34m'Map(%s)'\u001b[0m \u001b[0;34m%\u001b[0m \u001b[0mptransform\u001b[0m\u001b[0;34m.\u001b[0m\u001b[0mlabel_from_callable\u001b[0m\u001b[0;34m(\u001b[0m\u001b[0mfn\u001b[0m\u001b[0;34m)\u001b[0m\u001b[0;34m\u001b[0m\u001b[0;34m\u001b[0m\u001b[0m\n",
            "\u001b[0;32m<ipython-input-24-9dc606cb8dc0>\u001b[0m in \u001b[0;36m<lambda>\u001b[0;34m(x)\u001b[0m\n\u001b[1;32m      2\u001b[0m io = (pipe\n\u001b[1;32m      3\u001b[0m       \u001b[0;34m|\u001b[0m\u001b[0mbeam\u001b[0m\u001b[0;34m.\u001b[0m\u001b[0mio\u001b[0m\u001b[0;34m.\u001b[0m\u001b[0mReadFromCsv\u001b[0m\u001b[0;34m(\u001b[0m\u001b[0;34m'/content/sample_data/user.csv'\u001b[0m\u001b[0;34m)\u001b[0m\u001b[0;34m\u001b[0m\u001b[0;34m\u001b[0m\u001b[0m\n\u001b[0;32m----> 4\u001b[0;31m       \u001b[0;34m|\u001b[0m\u001b[0mbeam\u001b[0m\u001b[0;34m.\u001b[0m\u001b[0mMap\u001b[0m\u001b[0;34m(\u001b[0m\u001b[0;32mlambda\u001b[0m \u001b[0mx\u001b[0m\u001b[0;34m:\u001b[0m\u001b[0mx\u001b[0m\u001b[0;34m.\u001b[0m\u001b[0mstrip\u001b[0m\u001b[0;34m(\u001b[0m\u001b[0;34m','\u001b[0m\u001b[0;34m)\u001b[0m\u001b[0;34m)\u001b[0m\u001b[0;34m\u001b[0m\u001b[0;34m\u001b[0m\u001b[0m\n\u001b[0m\u001b[1;32m      5\u001b[0m       \u001b[0;34m|\u001b[0m\u001b[0mbeam\u001b[0m\u001b[0;34m.\u001b[0m\u001b[0mMap\u001b[0m\u001b[0;34m(\u001b[0m\u001b[0mprint\u001b[0m\u001b[0;34m)\u001b[0m\u001b[0;34m\u001b[0m\u001b[0;34m\u001b[0m\u001b[0m\n\u001b[1;32m      6\u001b[0m )\n",
            "\u001b[0;31mAttributeError\u001b[0m: 'BeamSchema_1d4d2ce4_9d7c_4299_bb10_856d80c4b294' object has no attribute 'strip' [while running '[24]: Map(<lambda at <ipython-input-24-9dc606cb8dc0>:4>)']"
          ]
        }
      ]
    },
    {
      "cell_type": "code",
      "source": [
        "#now lets put inside a defined way to execute above process\n",
        "with beam.Pipeline() as pipe:\n",
        "  io = (pipe\n",
        "      |beam.io.ReadFromText('/content/sample_data/user.csv',skip_header_lines=True)\n",
        "      |beam.Map(lambda x:x.split(','))\n",
        "      |beam.Filter(lambda x:x[3]!='26')\n",
        "      |beam.combiners.Count.Globally()\n",
        "      |beam.Map(print)\n",
        ")"
      ],
      "metadata": {
        "colab": {
          "base_uri": "https://localhost:8080/"
        },
        "id": "QO8wjrIbQEhz",
        "outputId": "8d1c5134-6d62-468b-d1ce-05a04675ef5d"
      },
      "execution_count": null,
      "outputs": [
        {
          "output_type": "stream",
          "name": "stdout",
          "text": [
            "4\n"
          ]
        }
      ]
    },
    {
      "cell_type": "code",
      "source": [
        "#calling with custom function\n",
        "def filter_data(element):\n",
        "  if element[3]!='26':\n",
        "    return element\n",
        "\n",
        "with beam.Pipeline() as pipe:\n",
        "  io = (pipe\n",
        "      |beam.io.ReadFromText('/content/sample_data/user.csv',skip_header_lines=True)\n",
        "      |beam.Map(lambda x:x.split(','))\n",
        "      |beam.Filter(filter_data)\n",
        "      #|beam.combiners.Count.Globally()\n",
        "      |beam.Map(print)\n",
        ")"
      ],
      "metadata": {
        "colab": {
          "base_uri": "https://localhost:8080/"
        },
        "id": "d7O8Uew9RdeV",
        "outputId": "221add1a-6d85-43c2-c7b4-0c1387284d86"
      },
      "execution_count": null,
      "outputs": [
        {
          "output_type": "stream",
          "name": "stdout",
          "text": [
            "['12', 'Ethan Clark', 'ethan@example.com', '34', 'Phoenix']\n",
            "['13', 'Ava Rodriguez', 'ava@example.com', '29', 'San Diego']\n",
            "['14', 'Noah White', 'noah@example.com', '32', 'Portland']\n",
            "['15', 'Isabella Harris', 'isabella@example.com', '27', 'Detroit']\n"
          ]
        }
      ]
    },
    {
      "cell_type": "code",
      "source": [
        "#just another example of user defined function\n",
        "def strip(text, chars=None):\n",
        "  return text.strip(chars)\n",
        "\n",
        "with beam.Pipeline() as pipeline:\n",
        "  plants = (\n",
        "      pipeline\n",
        "      | 'Gardening plants' >> beam.Create([\n",
        "          '# 🍓Strawberry\\n',\n",
        "          '# 🥕Carrot\\n',\n",
        "          '# 🍆Eggplant\\n',\n",
        "          '# 🍅Tomato\\n',\n",
        "          '# 🥔Potato\\n',\n",
        "      ])\n",
        "      | 'Strip header' >> beam.Map(strip, chars='# \\n')\n",
        "      | beam.Map(print))"
      ],
      "metadata": {
        "colab": {
          "base_uri": "https://localhost:8080/"
        },
        "id": "9Kq3A9CaSRDQ",
        "outputId": "7c27e86d-f8e5-4afa-b84a-4a0ed2f513c7"
      },
      "execution_count": null,
      "outputs": [
        {
          "output_type": "stream",
          "name": "stdout",
          "text": [
            "🍓Strawberry\n",
            "🥕Carrot\n",
            "🍆Eggplant\n",
            "🍅Tomato\n",
            "🥔Potato\n"
          ]
        }
      ]
    },
    {
      "cell_type": "code",
      "source": [
        "#aggregations in apche beam using PerKey()\n",
        "#to use this we have to create a key:value pair\n",
        "with beam.Pipeline() as pipe:\n",
        "  io = (pipe\n",
        "      |beam.io.ReadFromText('/content/sample_data/user.csv',skip_header_lines=True)\n",
        "      |beam.Map(lambda x:x.split(','))\n",
        "      |beam.Map(lambda x:(x[4],x))  #for key city, how many values are there\n",
        "      |beam.combiners.Count.PerKey()\n",
        "      |beam.Map(print)\n",
        ")"
      ],
      "metadata": {
        "colab": {
          "base_uri": "https://localhost:8080/"
        },
        "id": "qVujIMd8TXwS",
        "outputId": "8868a250-0b38-4d36-8e6d-f4e8514acd67"
      },
      "execution_count": null,
      "outputs": [
        {
          "output_type": "stream",
          "name": "stdout",
          "text": [
            "('Denver', 1)\n",
            "('Phoenix', 1)\n",
            "('San Diego', 1)\n",
            "('Portland', 1)\n",
            "('Detroit', 1)\n"
          ]
        }
      ]
    },
    {
      "cell_type": "code",
      "source": [
        "#creating a pcollection using inmemory data ie local variable\n",
        "a=[12,3,4,5]\n",
        "with beam.Pipeline() as p:\n",
        "  io=(p\n",
        "      |beam.Create(a)\n",
        "      |beam.Map(lambda x:x>4)\n",
        "      |beam.Map(print)\n",
        "  )"
      ],
      "metadata": {
        "colab": {
          "base_uri": "https://localhost:8080/"
        },
        "id": "OQoVTZJbUtJf",
        "outputId": "f3a41d2f-976e-459f-b084-a8e2ce5ef03a"
      },
      "execution_count": null,
      "outputs": [
        {
          "output_type": "stream",
          "name": "stdout",
          "text": [
            "True\n",
            "False\n",
            "False\n",
            "True\n"
          ]
        }
      ]
    },
    {
      "cell_type": "code",
      "source": [
        "#How to aggregate with Multiple keys\n",
        "with beam.Pipeline() as pipe:\n",
        "  io = (pipe\n",
        "      |beam.io.ReadFromText('/content/sample_data/user.csv',skip_header_lines=True)\n",
        "      |beam.Map(lambda x:x.split(','))\n",
        "      |beam.Map(lambda x:(x[1]+','+x[4],x))  #for key city, how many values are there\n",
        "      |beam.combiners.Count.PerKey()\n",
        "      |beam.Map(print)\n",
        ")"
      ],
      "metadata": {
        "colab": {
          "base_uri": "https://localhost:8080/"
        },
        "id": "kWbyOSo4hAE2",
        "outputId": "e4e1e3d8-be10-41b5-d8d0-4fe82677e1dd"
      },
      "execution_count": null,
      "outputs": [
        {
          "output_type": "stream",
          "name": "stdout",
          "text": [
            "('Mia Thompson,Denver', 1)\n",
            "('Ethan Clark,Phoenix', 1)\n",
            "('Ava Rodriguez,San Diego', 1)\n",
            "('Noah White,Portland', 1)\n",
            "('Isabella Harris,Detroit', 2)\n"
          ]
        }
      ]
    },
    {
      "cell_type": "code",
      "source": [
        "#using CombinePerKey()\n",
        "with beam.Pipeline() as pipe:\n",
        "  io = (pipe\n",
        "      |beam.io.ReadFromText('/content/sample_data/user.csv',skip_header_lines=True)\n",
        "      |beam.Map(lambda x:x.split(','))\n",
        "      |beam.Map(lambda x:(x[1]+','+x[4],int(x[3])))  #for key city, how many values are there\n",
        "      |beam.CombinePerKey(sum)\n",
        "      |beam.Map(print)\n",
        ")"
      ],
      "metadata": {
        "colab": {
          "base_uri": "https://localhost:8080/"
        },
        "id": "BQy6GsrkiZSE",
        "outputId": "6e2cb924-1985-40de-fcf2-91f0f23ba287"
      },
      "execution_count": null,
      "outputs": [
        {
          "output_type": "stream",
          "name": "stdout",
          "text": [
            "('Mia Thompson,Denver', 26)\n",
            "('Ethan Clark,Phoenix', 34)\n",
            "('Ava Rodriguez,San Diego', 29)\n",
            "('Noah White,Portland', 32)\n",
            "('Isabella Harris,Detroit', 54)\n"
          ]
        }
      ]
    },
    {
      "cell_type": "markdown",
      "source": [
        "difference between PerKey() and CombinePerKey()\n",
        "\n",
        "- PerKey() do only operations like count, customised function cannot be called inside it.\n",
        "- CombinePerKey() allows to write built in functions or customised function inside it."
      ],
      "metadata": {
        "id": "X_r860NSjFKO"
      }
    },
    {
      "cell_type": "code",
      "source": [
        "#writing the output to a file\n",
        "with beam.Pipeline() as pipe:\n",
        "  io = (pipe\n",
        "        |beam.io.ReadFromText('/content/sample_data/user.csv',skip_header_lines=True)\n",
        "        |beam.Map(lambda x:x.split(','))\n",
        "        |beam.Map(lambda x:(x[1]+','+x[4],int(x[3])))  #for key city, how many values are there\n",
        "        |beam.CombinePerKey(sum)\n",
        "        |beam.Map(print)\n",
        "        |beam.io.WriteToText('output.txt')\n",
        ")"
      ],
      "metadata": {
        "colab": {
          "base_uri": "https://localhost:8080/"
        },
        "id": "LONP2crfkKqY",
        "outputId": "fc3cf241-53a6-4b84-c001-85c339a12389"
      },
      "execution_count": null,
      "outputs": [
        {
          "output_type": "stream",
          "name": "stdout",
          "text": [
            "('Mia Thompson,Denver', 26)\n",
            "('Ethan Clark,Phoenix', 34)\n",
            "('Ava Rodriguez,San Diego', 29)\n",
            "('Noah White,Portland', 32)\n",
            "('Isabella Harris,Detroit', 54)\n"
          ]
        }
      ]
    },
    {
      "cell_type": "markdown",
      "source": [
        "**FilterMapSum Class:**\n",
        "\n",
        "This class inherits from beam.PTransform and overrides the expand method.\n",
        "\n",
        "\n",
        "Inside the expand method, we define a sequence of transformations:\n",
        "- beam.Filter to filter out even numbers.\n",
        "- beam.Map to square the filtered numbers.\n",
        "- beam.CombineGlobally to sum the squared numbers globally.\n",
        "Pipeline Definition:\n",
        "\n",
        "We create a Beam pipeline using a context manager (with beam.Pipeline() as p).\n",
        "\n",
        "\n",
        "- We create a PCollection from a list of integers using beam.Create.\n",
        "- We apply the composite transform FilterMapSum to the PCollection.\n",
        "- Finally, we print the result using beam.Map(print).\n",
        "- This composite transformation modularizes the sequence of operations, making the pipeline code cleaner and more reusable."
      ],
      "metadata": {
        "id": "msYLOAGCq4Nh"
      }
    },
    {
      "cell_type": "code",
      "source": [
        "#using composite tranformation\n",
        "class FilterMapSum(beam.PTransform):\n",
        "    def expand(self, pcoll):\n",
        "        return (\n",
        "            pcoll\n",
        "            | 'Filter Even Numbers' >> beam.Filter(lambda x: int(x[3]) % 2 == 0)\n",
        "            | 'Square Numbers' >> beam.Map(lambda x: int(x[3]) * int(x[3]))\n",
        "            | 'Sum Elements' >> beam.CombineGlobally(sum)\n",
        "        )"
      ],
      "metadata": {
        "id": "s39qXAyeoqKL"
      },
      "execution_count": null,
      "outputs": []
    },
    {
      "cell_type": "code",
      "source": [
        "#This beam.Map takes each line of text read from the CSV file and splits it into a list of strings based on the comma delimiter.\n",
        "#like \"1,John,Doe,25\" to [\"1\", \"John\", \"Doe\", \"25\"]\n",
        "with beam.Pipeline() as p:\n",
        "    #input_data = [1, 2, 3, 4, 5, 6, 7, 8, 9, 10]\n",
        "\n",
        "    result = (\n",
        "        p\n",
        "        | beam.io.ReadFromText('/content/sample_data/user.csv',skip_header_lines=True)\n",
        "        | beam.Map(lambda x:x.split(','))\n",
        "        | 'Filter Map Sum' >> FilterMapSum()\n",
        "    )\n",
        "\n",
        "    result | 'Print Results' >> beam.Map(print)"
      ],
      "metadata": {
        "colab": {
          "base_uri": "https://localhost:8080/"
        },
        "id": "1Xn_bF1fqajX",
        "outputId": "92792a3e-adfa-4fdc-9160-239fa115775a"
      },
      "execution_count": null,
      "outputs": [
        {
          "output_type": "stream",
          "name": "stdout",
          "text": [
            "2856\n"
          ]
        }
      ]
    },
    {
      "cell_type": "markdown",
      "source": [
        "#ParDo\n",
        "\n",
        "- It always expects iterable while returning i.e list hence use yeild instead of return, else in case of return use return [output]\n",
        "- Using a DoFn (short for \"Do Function\") in Apache Beam, you can create a ParDo class to perform custom processing on each element of a PCollection."
      ],
      "metadata": {
        "id": "6dJL0PYGvBkx"
      }
    },
    {
      "cell_type": "code",
      "source": [
        "class SplitRow(beam.DoFn):\n",
        "  def process(self,element):\n",
        "    customer=element.split(',')\n",
        "    yield customer\n",
        "\n",
        "class FilterAge(beam.DoFn):\n",
        "  def process(self,element):\n",
        "    if element != '26':\n",
        "      yield element\n",
        "\n",
        "class CountRecord(beam.DoFn):\n",
        "  def process(self,element):\n",
        "    yield len(element)\n",
        "\n",
        "\n",
        "with beam.Pipeline() as pipe:\n",
        "  io = (pipe\n",
        "      |beam.io.ReadFromText('/content/sample_data/user.csv',skip_header_lines=True)\n",
        "      |beam.ParDo(SplitRow())\n",
        "      |beam.ParDo(FilterAge())\n",
        "      #|beam.ParDo(CountRecord())\n",
        "      |beam.Map(print)\n",
        ")\n"
      ],
      "metadata": {
        "colab": {
          "base_uri": "https://localhost:8080/"
        },
        "id": "3Y6httN0vbEV",
        "outputId": "eb8f0923-a4a7-4a60-c08b-59f6b70d9f0e"
      },
      "execution_count": null,
      "outputs": [
        {
          "output_type": "stream",
          "name": "stdout",
          "text": [
            "['11', 'Mia Thompson', 'mia@example.com', '26', 'Denver']\n",
            "['12', 'Ethan Clark', 'ethan@example.com', '34', 'Phoenix']\n",
            "['13', 'Ava Rodriguez', 'ava@example.com', '29', 'San Diego']\n",
            "['14', 'Noah White', 'noah@example.com', '32', 'Portland']\n",
            "['15', 'Isabella Harris', 'isabella@example.com', '27', 'Detroit']\n",
            "['16', 'Isabella Harris', 'isabella@example.com', '27', 'Detroit']\n"
          ]
        }
      ]
    },
    {
      "cell_type": "code",
      "source": [
        "#ParDo Side Inputs and Outputs\n",
        "\n",
        "class Filters(beam.DoFn):\n",
        "  def process(self,element,age,city):\n",
        "    if element[3]==age and element[4]==city:\n",
        "      yield element\n",
        "\n",
        "with beam.Pipeline() as pipe:\n",
        "  ip = (pipe| beam.io.ReadFromText('/content/sample_data/user.csv',skip_header_lines=True))\n",
        "\n",
        "  op = ip | beam.ParDo(Filters(),'26','Delhi')\n",
        "  op | beam.Map(print)\n"
      ],
      "metadata": {
        "id": "MWhM-Xi-zD1z"
      },
      "execution_count": null,
      "outputs": []
    },
    {
      "cell_type": "markdown",
      "source": [
        "#Dataflow Core Transformations\n",
        "\n",
        "- ParDo : user defined logic\n",
        "- Map : Elements one to one mapping\n",
        "- FlatMap : Elements one to many mapping\n",
        "- Filter : Produce selected output\n",
        "- Flatten : union multiple pcollections\n",
        "- Partition : Branching Pcollections\n",
        "- GroupByKey :Group elements based on key\n",
        "- CoGroupByKey : Join Pcollections based on common key\n",
        "\n",
        "Pcollections is a collection of elements, where elements are rows inside it."
      ],
      "metadata": {
        "id": "OGmsgarTqPTS"
      }
    },
    {
      "cell_type": "code",
      "source": [
        "#map it takes one input and give only one output\n",
        "import apache_beam as beam\n",
        "#from apache_beam.runners.interactive.interactive_runner import InteractiveRunner\n",
        "#import apache_beam.runners.interactive.interactive_beam as ib\n",
        "with beam.Pipeline() as pipeline:\n",
        "  plants = (\n",
        "      pipeline\n",
        "      | 'Gardening plants' >> beam.Create([\n",
        "          '🍓Strawberry,🥕Carrot,🍆Eggplant',\n",
        "          '🍅Tomato,🥔Potato',\n",
        "      ])\n",
        "      | 'Map Lists' >> beam.Map(lambda x : len(x))\n",
        "      | beam.Map(print))"
      ],
      "metadata": {
        "colab": {
          "base_uri": "https://localhost:8080/",
          "height": 91
        },
        "id": "DTEd9tk_qUDY",
        "outputId": "8e578358-a4cd-462d-d3ce-1a10bac77666"
      },
      "execution_count": 2,
      "outputs": [
        {
          "output_type": "stream",
          "name": "stderr",
          "text": [
            "WARNING:apache_beam.runners.interactive.interactive_environment:Dependencies required for Interactive Beam PCollection visualization are not available, please use: `pip install apache-beam[interactive]` to install necessary dependencies to enable all data visualization features.\n"
          ]
        },
        {
          "output_type": "display_data",
          "data": {
            "application/javascript": [
              "\n",
              "        if (typeof window.interactive_beam_jquery == 'undefined') {\n",
              "          var jqueryScript = document.createElement('script');\n",
              "          jqueryScript.src = 'https://code.jquery.com/jquery-3.4.1.slim.min.js';\n",
              "          jqueryScript.type = 'text/javascript';\n",
              "          jqueryScript.onload = function() {\n",
              "            var datatableScript = document.createElement('script');\n",
              "            datatableScript.src = 'https://cdn.datatables.net/1.10.20/js/jquery.dataTables.min.js';\n",
              "            datatableScript.type = 'text/javascript';\n",
              "            datatableScript.onload = function() {\n",
              "              window.interactive_beam_jquery = jQuery.noConflict(true);\n",
              "              window.interactive_beam_jquery(document).ready(function($){\n",
              "                \n",
              "              });\n",
              "            }\n",
              "            document.head.appendChild(datatableScript);\n",
              "          };\n",
              "          document.head.appendChild(jqueryScript);\n",
              "        } else {\n",
              "          window.interactive_beam_jquery(document).ready(function($){\n",
              "            \n",
              "          });\n",
              "        }"
            ]
          },
          "metadata": {}
        },
        {
          "output_type": "stream",
          "name": "stdout",
          "text": [
            "29\n",
            "15\n"
          ]
        }
      ]
    },
    {
      "cell_type": "code",
      "source": [
        "#flatmap one to many mapping\n",
        "import apache_beam as beam\n",
        "with beam.Pipeline() as pipeline:\n",
        "  plants = (\n",
        "      pipeline\n",
        "      | 'Gardening plants' >> beam.Create([\n",
        "          '🍓Strawberry,🥕Carrot,🍆Eggplant',\n",
        "          '🍅Tomato,🥔Potato',\n",
        "      ])\n",
        "      | 'Map Lists' >> beam.FlatMap(lambda x : x.split(','))\n",
        "      | beam.Map(print))"
      ],
      "metadata": {
        "colab": {
          "base_uri": "https://localhost:8080/"
        },
        "id": "mioCWaB5t-bH",
        "outputId": "438fffeb-70d5-4145-e834-9addb215b334"
      },
      "execution_count": null,
      "outputs": [
        {
          "output_type": "stream",
          "name": "stdout",
          "text": [
            "🍓Strawberry\n",
            "🥕Carrot\n",
            "🍆Eggplant\n",
            "🍅Tomato\n",
            "🥔Potato\n"
          ]
        }
      ]
    },
    {
      "cell_type": "code",
      "source": [
        "#CoGroupByKey\n",
        "'''Aggregates all input elements by their key and allows downstream processing to consume all values associated with the key.\n",
        "While GroupByKey performs this operation over a single input collection and thus a single type of input values, CoGroupByKey operates over multiple input collections.\n",
        "As a result, the result for each key is a tuple of the values associated with that key in each input collection.'''\n",
        "with beam.Pipeline() as pipeline:\n",
        "  icon_pairs = pipeline | 'Create icons' >> beam.Create([\n",
        "      ('Apple', '🍎'),\n",
        "      ('Apple', '🍏'),\n",
        "      ('Eggplant', '🍆'),\n",
        "      ('Tomato', '🍅'),\n",
        "  ])\n",
        "\n",
        "  duration_pairs = pipeline | 'Create durations' >> beam.Create([\n",
        "      ('Apple', 'perennial'),\n",
        "      ('Carrot', 'biennial'),\n",
        "      ('Tomato', 'perennial'),\n",
        "      ('Tomato', 'annual'),\n",
        "  ])\n",
        "\n",
        "  plants = (({\n",
        "      'icons': icon_pairs, 'durations': duration_pairs\n",
        "  })\n",
        "            | 'Merge' >> beam.CoGroupByKey()\n",
        "            | beam.Map(print))"
      ],
      "metadata": {
        "colab": {
          "base_uri": "https://localhost:8080/"
        },
        "id": "Luz-Ec4-Jp54",
        "outputId": "914b5db1-270a-4089-e88c-6805cc610c5a"
      },
      "execution_count": 5,
      "outputs": [
        {
          "output_type": "stream",
          "name": "stdout",
          "text": [
            "('Apple', {'icons': ['🍎', '🍏'], 'durations': ['perennial']})\n",
            "('Carrot', {'icons': [], 'durations': ['biennial']})\n",
            "('Tomato', {'icons': ['🍅'], 'durations': ['perennial', 'annual']})\n",
            "('Eggplant', {'icons': ['🍆'], 'durations': []})\n"
          ]
        }
      ]
    },
    {
      "cell_type": "markdown",
      "source": [
        "#Partitions\n",
        "- Separates elements in a collection into multiple output collections. The partitioning function contains the logic that determines how to separate the elements of the input collection into each resulting partition output collection.\n",
        "- Number of partitions must be declared at start , you cant decalre it mid."
      ],
      "metadata": {
        "id": "9Btrr3nTLO86"
      }
    },
    {
      "cell_type": "code",
      "source": [
        "durations = ['annual', 'biennial', 'perennial']\n",
        "\n",
        "def by_duration(plant, num_partitions):\n",
        "    return durations.index(plant['duration'])\n",
        "\n",
        "with beam.Pipeline() as pipeline:\n",
        "    annuals, biennials, perennials = (\n",
        "        pipeline\n",
        "        | 'Gardening plants' >> beam.Create([\n",
        "            {'icon': '🍓', 'name': 'Strawberry', 'duration': 'perennial'},\n",
        "            {'icon': '🥕', 'name': 'Carrot', 'duration': 'biennial'},\n",
        "            {'icon': '🍆', 'name': 'Eggplant', 'duration': 'perennial'},\n",
        "            {'icon': '🍅', 'name': 'Tomato', 'duration': 'annual'},\n",
        "            {'icon': '🥔', 'name': 'Potato', 'duration': 'perennial'},\n",
        "        ])\n",
        "        | 'Partition' >> beam.Partition(by_duration, len(durations))\n",
        "    )\n",
        "    annuals | 'Annuals' >> beam.Map(print)\n",
        "    biennials | 'Biennial' >> beam.Map(lambda x: print('Biennial: {}'.format(x)))\n",
        "    perennials | 'Perennial plants' >> beam.Map(lambda x: print('Perennial: {}'.format(x)))\n"
      ],
      "metadata": {
        "colab": {
          "base_uri": "https://localhost:8080/"
        },
        "id": "qL5fy0_xLmdR",
        "outputId": "c9f4580f-d172-48ec-bb58-dc7487ce4139"
      },
      "execution_count": 8,
      "outputs": [
        {
          "output_type": "stream",
          "name": "stdout",
          "text": [
            "Perennial: {'icon': '🍓', 'name': 'Strawberry', 'duration': 'perennial'}\n",
            "Biennial: {'icon': '🥕', 'name': 'Carrot', 'duration': 'biennial'}\n",
            "Perennial: {'icon': '🍆', 'name': 'Eggplant', 'duration': 'perennial'}\n",
            "{'icon': '🍅', 'name': 'Tomato', 'duration': 'annual'}\n",
            "Perennial: {'icon': '🥔', 'name': 'Potato', 'duration': 'perennial'}\n"
          ]
        }
      ]
    },
    {
      "cell_type": "markdown",
      "source": [
        "#ElementWise Transformations\n",
        "- ToString : Convert Pcollections elements to string\n",
        "- Key,Values,kvSwap : extract key values or swap them\n",
        "- Distinct : selecting nonduplicate elements\n",
        "- CombineElements : Combine PCollections of elements globally\n",
        "- CombinePerKey : Combine PCollections of elements based on key\n",
        "- Count.Globally : Count no of elements globally\n",
        "- Count.PerKey : Count no of elements based on key\n",
        "- Count.PerElement  : Count no of elements per elements\n",
        "- Mean.Globally : Arithmetic mean of elements globally\n",
        "- Mean.PerKey : Arithmetic mean of elements based on key\n"
      ],
      "metadata": {
        "id": "RMLQgU5cNhJl"
      }
    },
    {
      "cell_type": "code",
      "source": [
        "#To String, by delimiter\n",
        "with beam.Pipeline() as pipeline:\n",
        "    plants = (\n",
        "        pipeline\n",
        "        | 'Garden plants' >> beam.Create([\n",
        "            ('🍓', 'Strawberry'),\n",
        "            ('🥕', 'Carrot'),\n",
        "            ('🍆', 'Eggplant'),\n",
        "            ('🍅', 'Tomato'),\n",
        "            ('🥔', 'Potato'),\n",
        "        ])\n",
        "        | 'To string' >> beam.ToString.Kvs()\n",
        "        | beam.Map(print))\n",
        "\n",
        "#dictionary to string. output will be equivalent to str(element).\n",
        "with beam.Pipeline() as pipeline:\n",
        "    plant_lists = (\n",
        "        pipeline\n",
        "        | 'Garden plants' >> beam.Create([\n",
        "            ['🍓', 'Strawberry', 'perennial'],\n",
        "            ['🥕', 'Carrot', 'biennial'],\n",
        "            ['🍆', 'Eggplant', 'perennial'],\n",
        "            ['🍅', 'Tomato', 'annual'],\n",
        "            ['🥔', 'Potato', 'perennial'],\n",
        "        ])\n",
        "        | 'To string' >> beam.ToString.Element()\n",
        "        | beam.Map(print))\n",
        "\n",
        "#converts to iterables, using list of lists\n",
        "with beam.Pipeline() as pipeline:\n",
        "    plants_csv = (\n",
        "        pipeline\n",
        "        | 'Garden plants' >> beam.Create([\n",
        "            ['🍓', 'Strawberry', 'perennial'],\n",
        "            ['🥕', 'Carrot', 'biennial'],\n",
        "            ['🍆', 'Eggplant', 'perennial'],\n",
        "            ['🍅', 'Tomato', 'annual'],\n",
        "            ['🥔', 'Potato', 'perennial'],\n",
        "        ])\n",
        "        | 'To string' >> beam.ToString.Iterables()\n",
        "        | beam.Map(print))\n"
      ],
      "metadata": {
        "colab": {
          "base_uri": "https://localhost:8080/"
        },
        "id": "M3r4GkgTPwY9",
        "outputId": "2ad88edc-3b2a-441c-a622-8ae49f4922e6"
      },
      "execution_count": 11,
      "outputs": [
        {
          "output_type": "stream",
          "name": "stdout",
          "text": [
            "🍓,Strawberry\n",
            "🥕,Carrot\n",
            "🍆,Eggplant\n",
            "🍅,Tomato\n",
            "🥔,Potato\n",
            "['🍓', 'Strawberry', 'perennial']\n",
            "['🥕', 'Carrot', 'biennial']\n",
            "['🍆', 'Eggplant', 'perennial']\n",
            "['🍅', 'Tomato', 'annual']\n",
            "['🥔', 'Potato', 'perennial']\n",
            "🍓,Strawberry,perennial\n",
            "🥕,Carrot,biennial\n",
            "🍆,Eggplant,perennial\n",
            "🍅,Tomato,annual\n",
            "🥔,Potato,perennial\n"
          ]
        }
      ]
    },
    {
      "cell_type": "code",
      "source": [
        "#Keys\n",
        "with beam.Pipeline() as pipeline:\n",
        "    icons = (\n",
        "        pipeline\n",
        "        | 'Garden plants' >> beam.Create([\n",
        "            ('🍓', 'Strawberry'),\n",
        "            ('🥕', 'Carrot'),\n",
        "            ('🍆', 'Eggplant'),\n",
        "            ('🍅', 'Tomato'),\n",
        "            ('🥔', 'Potato'),\n",
        "        ])\n",
        "        | 'Keys' >> beam.Keys()\n",
        "        | beam.Map(print))\n",
        "\n",
        "#values\n",
        "with beam.Pipeline() as pipeline:\n",
        "    plants = (\n",
        "        pipeline\n",
        "        | 'Garden plants' >> beam.Create([\n",
        "            ('🍓', 'Strawberry'),\n",
        "            ('🥕', 'Carrot'),\n",
        "            ('🍆', 'Eggplant'),\n",
        "            ('🍅', 'Tomato'),\n",
        "            ('🥔', 'Potato'),\n",
        "        ])\n",
        "        | 'Values' >> beam.Values()\n",
        "        | beam.Map(print))\n",
        "\n",
        "#key-value pairs\n",
        "with beam.Pipeline() as pipeline:\n",
        "    plants = (\n",
        "        pipeline\n",
        "        | 'Garden plants' >> beam.Create([\n",
        "            ('🍓', 'Strawberry'),\n",
        "            ('🥕', 'Carrot'),\n",
        "            ('🍆', 'Eggplant'),\n",
        "            ('🍅', 'Tomato'),\n",
        "            ('🥔', 'Potato'),\n",
        "        ])\n",
        "        | 'Key-Value swap' >> beam.KvSwap()\n",
        "        | beam.Map(print))"
      ],
      "metadata": {
        "colab": {
          "base_uri": "https://localhost:8080/"
        },
        "id": "pbOmkxj0Px7P",
        "outputId": "093c7330-4ac0-4fac-a9c7-382b5cbadd4a"
      },
      "execution_count": 21,
      "outputs": [
        {
          "output_type": "stream",
          "name": "stdout",
          "text": [
            "🍓\n",
            "🥕\n",
            "🍆\n",
            "🍅\n",
            "🥔\n",
            "Strawberry\n",
            "Carrot\n",
            "Eggplant\n",
            "Tomato\n",
            "Potato\n",
            "('Strawberry', '🍓')\n",
            "('Carrot', '🥕')\n",
            "('Eggplant', '🍆')\n",
            "('Tomato', '🍅')\n",
            "('Potato', '🥔')\n"
          ]
        }
      ]
    },
    {
      "cell_type": "code",
      "source": [
        "#distinct\n",
        "with beam.Pipeline() as pipeline:\n",
        "    unique_elements = (\n",
        "        pipeline\n",
        "        | 'Create produce' >> beam.Create([1,2,2,3,3,5])\n",
        "        | 'Deduplicate elements' >> beam.Distinct()\n",
        "        | beam.Map(print))"
      ],
      "metadata": {
        "colab": {
          "base_uri": "https://localhost:8080/"
        },
        "id": "e-AJUIR4QuGS",
        "outputId": "78143725-1807-4f20-8f7b-4b629a48eb1c"
      },
      "execution_count": 24,
      "outputs": [
        {
          "output_type": "stream",
          "name": "stdout",
          "text": [
            "1\n",
            "2\n",
            "3\n",
            "5\n"
          ]
        }
      ]
    },
    {
      "cell_type": "code",
      "source": [
        "#CombineVAlues\n",
        "with beam.Pipeline() as pipeline:\n",
        "    total = (\n",
        "        pipeline\n",
        "        | 'Create produce counts' >> beam.Create([\n",
        "            ('🥕', [3, 2]),\n",
        "            ('🍆', [1]),\n",
        "            ('🍅', [4, 5, 3]),\n",
        "        ])\n",
        "        | 'Sum' >> beam.CombineValues(sum)\n",
        "        | beam.Map(print))\n",
        "\n",
        "#combine with user defined function\n",
        "def saturated_sum(values):\n",
        "    max_value = 8\n",
        "    return min(sum(values), max_value)\n",
        "\n",
        "with beam.Pipeline() as pipeline:\n",
        "    saturated_total = (\n",
        "        pipeline\n",
        "        | 'Create plant counts' >> beam.Create([\n",
        "            ('🥕', [3, 2]),\n",
        "            ('🍆', [1]),\n",
        "            ('🍅', [4, 5, 3]),\n",
        "        ])\n",
        "        | 'Saturated sum' >> beam.CombineValues(saturated_sum)\n",
        "        | beam.Map(print))"
      ],
      "metadata": {
        "colab": {
          "base_uri": "https://localhost:8080/"
        },
        "id": "C9NVdz5HVKEA",
        "outputId": "c4d80b4a-ee24-439f-d85d-507eaa07e689"
      },
      "execution_count": 29,
      "outputs": [
        {
          "output_type": "stream",
          "name": "stdout",
          "text": [
            "('🥕', 5)\n",
            "('🍆', 1)\n",
            "('🍅', 12)\n",
            "('🥕', 5)\n",
            "('🍆', 1)\n",
            "('🍅', 8)\n"
          ]
        }
      ]
    },
    {
      "cell_type": "code",
      "source": [
        "#Combine Globally\n",
        "#CombineGlobally accepts a function that takes an iterable of elements as an input, and combines them to return a single element.\n",
        "def get_common_items(sets):\n",
        "    # set.intersection() takes multiple sets as separete arguments.\n",
        "    # We unpack the `sets` list into multiple arguments with the * operator.\n",
        "    # The combine transform might give us an empty list of `sets`,\n",
        "    # so we use a list with an empty set as a default value.\n",
        "    return set.intersection(*(sets or [set()]))\n",
        "\n",
        "with beam.Pipeline() as pipeline:\n",
        "    common_items = (\n",
        "        pipeline\n",
        "        | 'Create produce' >> beam.Create([\n",
        "            {'🍓', '🥕', '🍌', '🍅', '🌶️'},\n",
        "            {'🍇', '🥕', '🥝', '🍅', '🥔'},\n",
        "            {'🍉', '🥕', '🍆', '🍅', '🍍'},\n",
        "            {'🥑', '🥕', '🌽', '🍅', '🥥'},\n",
        "        ])\n",
        "        #| 'Get common items' >> beam.CombineGlobally(get_common_items)\n",
        "        | 'Get common items with exceptions' >> beam.CombineGlobally(\n",
        "            lambda sets, exclude: \\\n",
        "                set.intersection(*(sets or [set()])) - exclude,\n",
        "            exclude={'🥕'})\n",
        "        | beam.Map(print))\n",
        ""
      ],
      "metadata": {
        "colab": {
          "base_uri": "https://localhost:8080/"
        },
        "id": "mIf-QGZ-VovV",
        "outputId": "26b888fb-cdba-48c8-c5e1-a8a21a294db4"
      },
      "execution_count": 32,
      "outputs": [
        {
          "output_type": "stream",
          "name": "stdout",
          "text": [
            "{'🍅'}\n"
          ]
        }
      ]
    },
    {
      "cell_type": "code",
      "source": [
        "#CombinePerKey, behaves same as combineglobally\n",
        "with beam.Pipeline() as pipeline:\n",
        "    saturated_total = (\n",
        "        pipeline\n",
        "        | 'Create plant counts' >> beam.Create([\n",
        "            ('🥕', 3),\n",
        "            ('🥕', 2),\n",
        "            ('🍆', 1),\n",
        "            ('🍅', 4),\n",
        "            ('🍅', 5),\n",
        "            ('🍅', 3),\n",
        "        ])\n",
        "        | 'Saturated sum' >>\n",
        "        beam.CombinePerKey(lambda values: min(sum(values), 8))\n",
        "        | beam.Map(print))"
      ],
      "metadata": {
        "colab": {
          "base_uri": "https://localhost:8080/"
        },
        "id": "sCNjhsJeXPLm",
        "outputId": "ffb64b45-ecf6-4de3-fd0c-d6230effdb4e"
      },
      "execution_count": 34,
      "outputs": [
        {
          "output_type": "stream",
          "name": "stdout",
          "text": [
            "('🥕', 5)\n",
            "('🍆', 1)\n",
            "('🍅', 8)\n"
          ]
        }
      ]
    },
    {
      "cell_type": "code",
      "source": [
        "#Count Globally\n",
        "with beam.Pipeline() as pipeline:\n",
        "    total_elements = (\n",
        "        pipeline\n",
        "        | 'Create plants' >> beam.Create(\n",
        "            ['🍓', '🥕', '🥕', '🥕', '🍆', '🍆', '🍅', '🍅', '🍅', '🌽'])\n",
        "        | 'Count all elements' >> beam.combiners.Count.Globally()\n",
        "        | beam.Map(print))\n",
        "\n",
        "#Count PerKey\n",
        "with beam.Pipeline() as pipeline:\n",
        "  total_elements_per_keys = (\n",
        "      pipeline\n",
        "      | 'Create plants' >> beam.Create([\n",
        "          ('spring', '🍓'),\n",
        "          ('spring', '🥕'),\n",
        "          ('summer', '🥕'),\n",
        "          ('fall', '🥕'),\n",
        "          ('spring', '🍆'),\n",
        "          ('winter', '🍆'),\n",
        "          ('spring', '🍅'),\n",
        "          ('summer', '🍅'),\n",
        "          ('fall', '🍅'),\n",
        "          ('summer', '🌽'),\n",
        "      ])\n",
        "      | 'Count elements per key' >> beam.combiners.Count.PerKey()\n",
        "      | beam.Map(print))\n",
        "\n",
        "#Count PerElement\n",
        "with beam.Pipeline() as pipeline:\n",
        "    total_unique_elements = (\n",
        "        pipeline\n",
        "        | 'Create produce' >> beam.Create(\n",
        "            ['🍓', '🥕', '🥕', '🥕', '🍆', '🍆', '🍅', '🍅', '🍅', '🌽'])\n",
        "        | 'Count unique elements' >> beam.combiners.Count.PerElement()\n",
        "        | beam.Map(print))"
      ],
      "metadata": {
        "colab": {
          "base_uri": "https://localhost:8080/"
        },
        "id": "o7nQPEFUYB18",
        "outputId": "cb85c0b1-fc33-47c7-ef2e-b5199f2f7b50"
      },
      "execution_count": 35,
      "outputs": [
        {
          "output_type": "stream",
          "name": "stdout",
          "text": [
            "10\n",
            "('spring', 4)\n",
            "('summer', 3)\n",
            "('fall', 2)\n",
            "('winter', 1)\n",
            "('🍓', 1)\n",
            "('🥕', 3)\n",
            "('🍆', 2)\n",
            "('🍅', 3)\n",
            "('🌽', 1)\n"
          ]
        }
      ]
    },
    {
      "cell_type": "code",
      "source": [
        "#Mean of elements , to get the average of pcollection elements\n",
        "with beam.Pipeline() as pipeline:\n",
        "  mean_element = (\n",
        "      pipeline\n",
        "      | 'Create numbers' >> beam.Create([3, 4, 1, 2])\n",
        "      | 'Get mean value' >> beam.combiners.Mean.Globally()\n",
        "      | beam.Map(print))\n",
        "\n",
        "#Mean PerKey()\n",
        "with beam.Pipeline() as pipeline:\n",
        "    saturated_total = (\n",
        "        pipeline\n",
        "        | 'Create plant counts' >> beam.Create([\n",
        "            ('🥕', 3),\n",
        "            ('🥕', 2),\n",
        "            ('🍆', 1),\n",
        "            ('🍅', 4),\n",
        "            ('🍅', 5),\n",
        "            ('🍅', 3),\n",
        "        ])\n",
        "        | 'Mean per key' >> beam.combiners.Mean.PerKey()\n",
        "        | beam.Map(print))"
      ],
      "metadata": {
        "colab": {
          "base_uri": "https://localhost:8080/"
        },
        "id": "7PUAT0FLYqTH",
        "outputId": "b6b9ffc1-f5ef-4dc6-da13-610f48e4b2ae"
      },
      "execution_count": 39,
      "outputs": [
        {
          "output_type": "stream",
          "name": "stdout",
          "text": [
            "2.5\n",
            "('🥕', 2.5)\n",
            "('🍆', 1.0)\n",
            "('🍅', 4.0)\n"
          ]
        }
      ]
    },
    {
      "cell_type": "markdown",
      "source": [
        "#Beam Transformations\n",
        "- Match : Return the string that matches the regex\n",
        "- Find : Find and return the string that matches the regex\n",
        "- Split : Splits the string into given regex\n",
        "- Replace : Replace the occurence of regex with another string/regex/pattern\n",
        "- Regex : Filters input string elements based on a regex. May also transform them based on the matching groups."
      ],
      "metadata": {
        "id": "Fc0Hd6rEZh8a"
      }
    },
    {
      "cell_type": "code",
      "source": [
        "#To start matching at any point instead of the beginning of the string, use Regex.find(regex)\n",
        "# Matches a named group 'icon', and then two comma-separated groups.\n",
        "regex = r'(?P<icon>[^\\s,]+), *(\\w+), *(\\w+)'\n",
        "with beam.Pipeline() as pipeline:\n",
        "  plants_matches = (\n",
        "      pipeline\n",
        "      | 'Garden plants' >> beam.Create([\n",
        "          '🍓, Strawberry, perennial',\n",
        "          '🥕, Carrot, biennial ignoring trailing words',\n",
        "          '🍆, Eggplant, perennial',\n",
        "          '🍅, Tomato, annual',\n",
        "          '🥔, Potato, perennial',\n",
        "          '# 🍌, invalid, format',\n",
        "          'invalid, 🍉, format',\n",
        "      ])\n",
        "      | 'Parse plants' >> beam.Regex.matches(regex)\n",
        "      | beam.Map(print))\n",
        "\n",
        "#Regex.find keeps only the elements that match the regular expression, returning the matched group.\n",
        "regex = r'(?P<icon>[^\\s,]+), *(\\w+), *(\\w+)'\n",
        "with beam.Pipeline() as pipeline:\n",
        "  plants_matches = (\n",
        "      pipeline\n",
        "      | 'Garden plants' >> beam.Create([\n",
        "          '# 🍓, Strawberry, perennial',\n",
        "          '# 🥕, Carrot, biennial ignoring trailing words',\n",
        "          '# 🍆, Eggplant, perennial - 🍌, Banana, perennial',\n",
        "          '# 🍅, Tomato, annual - 🍉, Watermelon, annual',\n",
        "          '# 🥔, Potato, perennial',\n",
        "      ])\n",
        "      | 'Parse plants' >> beam.Regex.find(regex)\n",
        "      | beam.Map(print))\n",
        "\n",
        "#Regex.replace_all returns the string with all the occurrences of the regular expression replaced by another string.\n",
        "with beam.Pipeline() as pipeline:\n",
        "  plants_replace_all = (\n",
        "      pipeline\n",
        "      | 'Garden plants' >> beam.Create([\n",
        "          '🍓 : Strawberry : perennial',\n",
        "          '🥕 : Carrot : biennial',\n",
        "          '🍆\\t:\\tEggplant\\t:\\tperennial',\n",
        "          '🍅 : Tomato : annual',\n",
        "          '🥔 : Potato : perennial',\n",
        "      ])\n",
        "      | 'To CSV' >> beam.Regex.replace_all(r'\\s*:\\s*', ',')\n",
        "      | beam.Map(print))\n",
        "\n",
        "#Regex.split returns the list of strings that were delimited by the specified regular expression.\n",
        "with beam.Pipeline() as pipeline:\n",
        "    plants_split = (\n",
        "        pipeline\n",
        "        | 'Garden plants' >> beam.Create([\n",
        "            '🍓 : Strawberry : perennial',\n",
        "            '🥕 : Carrot : biennial',\n",
        "            '🍆\\t:\\tEggplant : perennial',\n",
        "            '🍅 : Tomato : annual',\n",
        "            '🥔 : Potato : perennial',\n",
        "        ])\n",
        "        | 'Parse plants' >> beam.Regex.split(r'\\s*:\\s*')\n",
        "        | beam.Map(print))"
      ],
      "metadata": {
        "colab": {
          "base_uri": "https://localhost:8080/"
        },
        "id": "Z6RpKRuMZhsH",
        "outputId": "9feffe64-ffff-4ade-db1c-0d9582e8ca42"
      },
      "execution_count": 44,
      "outputs": [
        {
          "output_type": "stream",
          "name": "stdout",
          "text": [
            "🍓, Strawberry, perennial\n",
            "🥕, Carrot, biennial\n",
            "🍆, Eggplant, perennial\n",
            "🍅, Tomato, annual\n",
            "🥔, Potato, perennial\n",
            "🍓, Strawberry, perennial\n",
            "🥕, Carrot, biennial\n",
            "🍆, Eggplant, perennial\n",
            "🍅, Tomato, annual\n",
            "🥔, Potato, perennial\n",
            "🍓,Strawberry,perennial\n",
            "🥕,Carrot,biennial\n",
            "🍆,Eggplant,perennial\n",
            "🍅,Tomato,annual\n",
            "🥔,Potato,perennial\n",
            "['🍓', 'Strawberry', 'perennial']\n",
            "['🥕', 'Carrot', 'biennial']\n",
            "['🍆', 'Eggplant', 'perennial']\n",
            "['🍅', 'Tomato', 'annual']\n",
            "['🥔', 'Potato', 'perennial']\n"
          ]
        }
      ]
    },
    {
      "cell_type": "code",
      "source": [
        "#WindowInto Logically divides up or groups the elements of a collection into finite windows according to a function.\n",
        "with beam.Pipeline() as pipeline:\n",
        "    produce = (pipeline\n",
        "                 | 'Garden plants' >> beam.Create([\n",
        "                    {'name': 'Strawberry', 'season': 1585699200},  # April, 2020\n",
        "                    {'name': 'Strawberry', 'season': 1588291200},  # May, 2020\n",
        "                    {'name': 'Carrot', 'season': 1590969600},  # June, 2020\n",
        "                    {'name': 'Artichoke', 'season': 1583020800},  # March, 2020\n",
        "                    {'name': 'Artichoke', 'season': 1585699200},  # April, 2020\n",
        "                    {'name': 'Tomato', 'season': 1588291200},  # May, 2020\n",
        "                    {'name': 'Potato', 'season': 1598918400},  # September, 2020\n",
        "                  ])\n",
        "                 | 'With timestamps' >> beam.Map(lambda plant: beam.window.TimestampedValue(plant['name'], plant['season']))\n",
        "                 | 'Window into fixed 2-month windows' >> beam.WindowInto(\n",
        "                              beam.window.FixedWindows(2 * 30 * 24 * 60 * 60))\n",
        "                 #| 'Count per window' >> beam.combiners.Count.PerElement()\n",
        "                 | 'Print results' >> beam.Map(print)\n",
        "                 )\n"
      ],
      "metadata": {
        "colab": {
          "base_uri": "https://localhost:8080/"
        },
        "id": "ocKAAWCwZLsW",
        "outputId": "b8ff1664-8255-4626-c76b-de782e55bf2a"
      },
      "execution_count": 45,
      "outputs": [
        {
          "output_type": "stream",
          "name": "stdout",
          "text": [
            "Strawberry\n",
            "Strawberry\n",
            "Carrot\n",
            "Artichoke\n",
            "Artichoke\n",
            "Tomato\n",
            "Potato\n"
          ]
        }
      ]
    },
    {
      "cell_type": "code",
      "source": [],
      "metadata": {
        "id": "OKeOpWm5f4U-"
      },
      "execution_count": null,
      "outputs": []
    },
    {
      "cell_type": "markdown",
      "source": [
        "#Apache Beam SQL\n",
        "\n",
        "- Beam SQL allows a beam user to query bounded and unbounded PCollections with SQL Statements\n",
        "- Beam SQL translates SQL Query to PTransform\n",
        "- It has two dialects:\n",
        "  1. Calcite SQL (Default and for Big Data Processing)\n",
        "  2. Zeta SQL (For Bigquery IO)\n",
        "- There are two additional concepts:\n",
        "  1. SqlTransform: the interface for creating PTransforms from SQL queries.\n",
        "  2. Row: the type of elements that Beam SQL operates on. A `PCollection<Row>` plays the role of a table.\n"
      ],
      "metadata": {
        "id": "a2Ieudiv9HXl"
      }
    }
  ]
}