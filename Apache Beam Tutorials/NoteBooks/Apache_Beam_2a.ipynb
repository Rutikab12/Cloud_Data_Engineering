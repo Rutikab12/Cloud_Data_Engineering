{
  "nbformat": 4,
  "nbformat_minor": 0,
  "metadata": {
    "colab": {
      "provenance": [],
      "toc_visible": true
    },
    "kernelspec": {
      "name": "python3",
      "display_name": "Python 3"
    },
    "language_info": {
      "name": "python"
    }
  },
  "cells": [
    {
      "cell_type": "markdown",
      "source": [
        "#ParDo\n",
        "\n",
        "- ParDo is a Beam transform for generic parallel processing.\n",
        "- The ParDo processing paradigm is similar to the “Map” phase of a Map/Shuffle/Reduce-style algorithm: a ParDo transform considers each element in the input PCollection, performs some processing function (your user code) on that element, and emits zero, one, or multiple elements to an output PCollection.\n",
        "- ParDo is useful for a variety of common data processing operations, including:\n",
        "- Filtering a data set.  \n",
        "- Formatting or type-converting each element in a data set.\n",
        "- Extracting parts of each element in a data set.  \n",
        "- Performing computations on each element in a data set.\n",
        "- When apply a ParDo transform, need to provide user code in the form of a DoFn object."
      ],
      "metadata": {
        "id": "vV9S4krYSHLf"
      }
    },
    {
      "cell_type": "markdown",
      "source": [
        "#DoFn\n",
        "\n",
        "- DoFn is a Beam SDK class that defines a distributed processing function.\n",
        "- The DoFn object that you pass to ParDo contains the processing logic that gets applied to the elements in the input collection. Beam handle that for you.\n",
        "- Inside your DoFn subclass, you’ll write a method process where you provide the actual processing logic.\n",
        "- You don’t need to manually extract the elements from the input collection; the Beam SDKs\n",
        "- Your process method should accept an argument element, which is the input element, and return an iterable with its output values.\n",
        "- A given DoFn instance generally gets invoked one or more times to process some arbitrary bundle of elements.\n",
        "- Your method should meet the following requirements:\n",
        "- You should not in any way modify the element argument provided to the process method, or any side inputs.\n",
        "- Once you output a value using yield or return, you should not modify that value in any way."
      ],
      "metadata": {
        "id": "thUQYsBTSsO8"
      }
    },
    {
      "cell_type": "code",
      "source": [
        "import apache_beam as beam"
      ],
      "metadata": {
        "id": "ZH-aUZwpUGQM"
      },
      "execution_count": 3,
      "outputs": []
    },
    {
      "cell_type": "code",
      "execution_count": 5,
      "metadata": {
        "colab": {
          "base_uri": "https://localhost:8080/",
          "height": 128
        },
        "id": "2KZS1SnjMWPe",
        "outputId": "0230d16e-3ce5-414e-93ee-863aa7e461c9"
      },
      "outputs": [
        {
          "output_type": "stream",
          "name": "stderr",
          "text": [
            "WARNING:apache_beam.runners.interactive.interactive_environment:Dependencies required for Interactive Beam PCollection visualization are not available, please use: `pip install apache-beam[interactive]` to install necessary dependencies to enable all data visualization features.\n"
          ]
        },
        {
          "output_type": "display_data",
          "data": {
            "application/javascript": [
              "\n",
              "        if (typeof window.interactive_beam_jquery == 'undefined') {\n",
              "          var jqueryScript = document.createElement('script');\n",
              "          jqueryScript.src = 'https://code.jquery.com/jquery-3.4.1.slim.min.js';\n",
              "          jqueryScript.type = 'text/javascript';\n",
              "          jqueryScript.onload = function() {\n",
              "            var datatableScript = document.createElement('script');\n",
              "            datatableScript.src = 'https://cdn.datatables.net/1.10.20/js/jquery.dataTables.min.js';\n",
              "            datatableScript.type = 'text/javascript';\n",
              "            datatableScript.onload = function() {\n",
              "              window.interactive_beam_jquery = jQuery.noConflict(true);\n",
              "              window.interactive_beam_jquery(document).ready(function($){\n",
              "                \n",
              "              });\n",
              "            }\n",
              "            document.head.appendChild(datatableScript);\n",
              "          };\n",
              "          document.head.appendChild(jqueryScript);\n",
              "        } else {\n",
              "          window.interactive_beam_jquery(document).ready(function($){\n",
              "            \n",
              "          });\n",
              "        }"
            ]
          },
          "metadata": {}
        },
        {
          "output_type": "stream",
          "name": "stdout",
          "text": [
            "6\n",
            "6\n",
            "6\n",
            "6\n"
          ]
        }
      ],
      "source": [
        "#ParDo Function\n",
        "class SplitRow(beam.DoFn):\n",
        "  def process(self,element):\n",
        "    return [element.split(',')]\n",
        "\n",
        "class ComputeWordLengthFn(beam.DoFn):\n",
        "  def process(self,element):\n",
        "    return [len(element)]\n",
        "\n",
        "\n",
        "with beam.Pipeline() as pipeline:\n",
        "  input_data = (pipeline\n",
        "                | \"read from text\">> beam.io.ReadFromText(\"/content/sample_data/students.txt\", skip_header_lines= True)\n",
        "                | \"spliting the record\" >> beam.ParDo(SplitRow()))\n",
        "\n",
        "  count_data = (input_data\n",
        "                |\"filtering the data with PASS\" >> beam.Filter(lambda record : record[5]==\"FAIL\"))\n",
        "\n",
        "  word_lengths = (count_data\n",
        "                 |\"countof records\" >> beam.ParDo(ComputeWordLengthFn())\n",
        "                 |beam.Map(print))\n",
        "\n",
        "  output_data = (count_data\n",
        "                 | \"Write to Text\" >> beam.io.WriteToText(\"result/fail_data\"))"
      ]
    },
    {
      "cell_type": "markdown",
      "source": [
        "#Keys\n",
        "Takes a collection of key-value pairs and returns the key to each element.\n",
        "\n",
        "#Values\n",
        "Takes a collection of key-value pairs, and returns the value of each element."
      ],
      "metadata": {
        "id": "0Snq7bdqU6U7"
      }
    },
    {
      "cell_type": "code",
      "source": [
        "#extracting keys from pairs\n",
        "with beam.Pipeline() as pipeline:\n",
        "  icons = (\n",
        "      pipeline\n",
        "      | 'Garden plants' >> beam.Create([\n",
        "          ('🍓', 'Strawberry'),\n",
        "          ('🥕', 'Carrot'),\n",
        "          ('🍆', 'Eggplant'),\n",
        "          ('🍅', 'Tomato'),\n",
        "          ('🥔', 'Potato'),\n",
        "      ])\n",
        "      | 'Keys' >> beam.Keys()\n",
        "      | beam.Map(print))"
      ],
      "metadata": {
        "colab": {
          "base_uri": "https://localhost:8080/"
        },
        "id": "Lr4YyTJtUCkH",
        "outputId": "241b9cbd-6a4b-44c7-a402-cc5a9bb162e1"
      },
      "execution_count": 6,
      "outputs": [
        {
          "output_type": "stream",
          "name": "stdout",
          "text": [
            "🍓\n",
            "🥕\n",
            "🍆\n",
            "🍅\n",
            "🥔\n"
          ]
        }
      ]
    },
    {
      "cell_type": "code",
      "source": [
        "#extracting Values from pairs\n",
        "with beam.Pipeline() as pipeline:\n",
        "  plants = (\n",
        "      pipeline\n",
        "      | 'Garden plants' >> beam.Create([\n",
        "          ('🍓', 'Strawberry'),\n",
        "          ('🥕', 'Carrot'),\n",
        "          ('🍆', 'Eggplant'),\n",
        "          ('🍅', 'Tomato'),\n",
        "          ('🥔', 'Potato'),\n",
        "      ])\n",
        "      | 'Values' >> beam.Values()\n",
        "      | beam.Map(print))"
      ],
      "metadata": {
        "colab": {
          "base_uri": "https://localhost:8080/"
        },
        "id": "uaXrTu_VVEhG",
        "outputId": "f01b72a6-c0e6-49a6-ea6e-36d1e818a981"
      },
      "execution_count": 8,
      "outputs": [
        {
          "output_type": "stream",
          "name": "stdout",
          "text": [
            "Strawberry\n",
            "Carrot\n",
            "Eggplant\n",
            "Tomato\n",
            "Potato\n"
          ]
        }
      ]
    },
    {
      "cell_type": "markdown",
      "source": [
        "#ToString\n",
        "\n",
        "- Transforms every element in an input collection to a string.  \n",
        "- Any non-string element can be converted to a string using standard Python functions and methods.  \n",
        "- Many I/O transforms, such as textio.WriteToText, expect their input elements to be strings.\n",
        "  - Key-value pairs to string\n",
        "  - Elements to string\n",
        "  - Iterables to string"
      ],
      "metadata": {
        "id": "2me7_EnAV0Vp"
      }
    },
    {
      "cell_type": "code",
      "source": [
        "#key_value pair to string\n",
        "with beam.Pipeline() as pipeline:\n",
        "  plants = (\n",
        "      pipeline\n",
        "      | 'Garden plants' >> beam.Create([\n",
        "          ('🍓', 'Strawberry'),\n",
        "          ('🥕', 'Carrot'),\n",
        "          ('🍆', 'Eggplant'),\n",
        "          ('🍅', 'Tomato'),\n",
        "          ('🥔', 'Potato'),\n",
        "      ])\n",
        "      | 'To string' >> beam.ToString.Kvs()  #Element() #Iterables()\n",
        "      | beam.Map(print)\n",
        "  )"
      ],
      "metadata": {
        "colab": {
          "base_uri": "https://localhost:8080/"
        },
        "id": "PR_pcGfzVJQ1",
        "outputId": "b3347240-112e-4806-8320-c047f585be70"
      },
      "execution_count": 9,
      "outputs": [
        {
          "output_type": "stream",
          "name": "stdout",
          "text": [
            "🍓,Strawberry\n",
            "🥕,Carrot\n",
            "🍆,Eggplant\n",
            "🍅,Tomato\n",
            "🥔,Potato\n"
          ]
        }
      ]
    },
    {
      "cell_type": "code",
      "source": [
        "#dict directly to String, like str(element)\n",
        "with beam.Pipeline() as pipeline:\n",
        "    plant_lists = (\n",
        "        pipeline\n",
        "        | 'Garden plants' >> beam.Create([\n",
        "            ['🍓', 'Strawberry', 'perennial'],\n",
        "            ['🥕', 'Carrot', 'biennial'],\n",
        "            ['🍆', 'Eggplant', 'perennial'],\n",
        "            ['🍅', 'Tomato', 'annual'],\n",
        "            ['🥔', 'Potato', 'perennial'],\n",
        "        ])\n",
        "        | 'To string' >> beam.ToString.Element()\n",
        "        | beam.Map(print)\n",
        "  )"
      ],
      "metadata": {
        "colab": {
          "base_uri": "https://localhost:8080/"
        },
        "id": "AEqLL-UoWNci",
        "outputId": "64a5185a-4156-4d25-bd17-1378d4b3f344"
      },
      "execution_count": 10,
      "outputs": [
        {
          "output_type": "stream",
          "name": "stdout",
          "text": [
            "['🍓', 'Strawberry', 'perennial']\n",
            "['🥕', 'Carrot', 'biennial']\n",
            "['🍆', 'Eggplant', 'perennial']\n",
            "['🍅', 'Tomato', 'annual']\n",
            "['🥔', 'Potato', 'perennial']\n"
          ]
        }
      ]
    },
    {
      "cell_type": "code",
      "source": [
        "#converts an iterable, in this case a list of strings, into a string like ','.join()\n",
        "with beam.Pipeline() as pipeline:\n",
        "    plants_csv = (\n",
        "        pipeline\n",
        "        | 'Garden plants' >> beam.Create([\n",
        "            ['🍓', 'Strawberry', 'perennial'],\n",
        "            ['🥕', 'Carrot', 'biennial'],\n",
        "            ['🍆', 'Eggplant', 'perennial'],\n",
        "            ['🍅', 'Tomato', 'annual'],\n",
        "            ['🥔', 'Potato', 'perennial'],\n",
        "        ])\n",
        "        | 'To string' >> beam.ToString.Iterables()\n",
        "        | beam.Map(print)\n",
        ")"
      ],
      "metadata": {
        "colab": {
          "base_uri": "https://localhost:8080/"
        },
        "id": "Rg2zjKJXWeza",
        "outputId": "cf0e096e-1971-401b-9541-82ca9ac8076a"
      },
      "execution_count": 11,
      "outputs": [
        {
          "output_type": "stream",
          "name": "stdout",
          "text": [
            "🍓,Strawberry,perennial\n",
            "🥕,Carrot,biennial\n",
            "🍆,Eggplant,perennial\n",
            "🍅,Tomato,annual\n",
            "🥔,Potato,perennial\n"
          ]
        }
      ]
    },
    {
      "cell_type": "markdown",
      "source": [
        "#KvSwap()\n",
        "Takes a collection of key-value pairs and returns a collection of key-value pairs which has each key and value swapped."
      ],
      "metadata": {
        "id": "FTibIjDfXESu"
      }
    },
    {
      "cell_type": "code",
      "source": [
        "with beam.Pipeline() as pipeline:\n",
        "  plants = (\n",
        "      pipeline\n",
        "      | 'Garden plants' >> beam.Create([\n",
        "          ('🍓', 'Strawberry'),\n",
        "          ('🥕', 'Carrot'),\n",
        "          ('🍆', 'Eggplant'),\n",
        "          ('🍅', 'Tomato'),\n",
        "          ('🥔', 'Potato'),\n",
        "      ])\n",
        "      | 'Key-Value swap' >> beam.KvSwap()\n",
        "      | beam.Map(print)\n",
        ")"
      ],
      "metadata": {
        "colab": {
          "base_uri": "https://localhost:8080/"
        },
        "id": "KQFGd9XcWmd6",
        "outputId": "eab968e4-5869-4520-e7be-679ceb893995"
      },
      "execution_count": 12,
      "outputs": [
        {
          "output_type": "stream",
          "name": "stdout",
          "text": [
            "('Strawberry', '🍓')\n",
            "('Carrot', '🥕')\n",
            "('Eggplant', '🍆')\n",
            "('Tomato', '🍅')\n",
            "('Potato', '🥔')\n"
          ]
        }
      ]
    },
    {
      "cell_type": "markdown",
      "source": [
        "[Beam Programming Guide](https://beam.apache.org/documentation/programming-guide/#pardo)\n",
        "\n",
        "[Basics of the Beam model](https://beam.apache.org/documentation/basics/#aggregation)\n",
        "\n",
        "[Python Transform Catalogue](https://beam.apache.org/documentation/transforms/python/overview/)"
      ],
      "metadata": {
        "id": "NPHOJ8reXbvN"
      }
    }
  ]
}