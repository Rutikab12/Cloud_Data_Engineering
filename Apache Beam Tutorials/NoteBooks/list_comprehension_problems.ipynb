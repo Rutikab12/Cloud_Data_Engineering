{
  "nbformat": 4,
  "nbformat_minor": 0,
  "metadata": {
    "colab": {
      "provenance": []
    },
    "kernelspec": {
      "name": "python3",
      "display_name": "Python 3"
    },
    "language_info": {
      "name": "python"
    }
  },
  "cells": [
    {
      "cell_type": "markdown",
      "source": [
        "#Problem on List Comprehension:\n",
        "\n",
        "- What is List Comprehension?\n",
        "  - The list comprehension syntax is somewhat of a compressed ‘for’ loop.\n",
        "\n",
        "- Syntax is kind of similar to traditional for loop."
      ],
      "metadata": {
        "id": "P-MCbRlzZm0q"
      }
    },
    {
      "cell_type": "markdown",
      "source": [
        "#Problem-1\n",
        "\n",
        "- Given a list of numbers, print all odd numbers"
      ],
      "metadata": {
        "id": "i15anBg7Z5st"
      }
    },
    {
      "cell_type": "code",
      "source": [
        "numbers=[1,2,3,4,5,6,7,8,9,10]\n",
        "result=[number for number in numbers if number%2==1]\n",
        "print(result)"
      ],
      "metadata": {
        "colab": {
          "base_uri": "https://localhost:8080/"
        },
        "id": "M7peJJ4rZmIi",
        "outputId": "4b2f6253-42a1-46b4-b009-c1638ae5e8d7"
      },
      "execution_count": null,
      "outputs": [
        {
          "output_type": "stream",
          "name": "stdout",
          "text": [
            "[1, 3, 5, 7, 9]\n"
          ]
        }
      ]
    },
    {
      "cell_type": "markdown",
      "source": [
        "#Problem-2\n",
        "\n",
        "- Given a list of numbers, remove floats (numbers with decimals)"
      ],
      "metadata": {
        "id": "3vhW35iraYUt"
      }
    },
    {
      "cell_type": "code",
      "execution_count": null,
      "metadata": {
        "colab": {
          "base_uri": "https://localhost:8080/"
        },
        "id": "59kCsWAdZg-B",
        "outputId": "6f56a7f3-a9bb-4edd-d5a2-a2aa2a86cb6e"
      },
      "outputs": [
        {
          "output_type": "stream",
          "name": "stdout",
          "text": [
            "[2, 6, 8, 9]\n"
          ]
        }
      ],
      "source": [
        "original_list = [2,3.75,.04,59.354,6,7.7777,8,9]\n",
        "result=[number for number in original_list if type(number)==int]\n",
        "print(result)"
      ]
    },
    {
      "cell_type": "markdown",
      "source": [
        "#Problem-3\n",
        "\n",
        "- Find all of the numbers from 1-1000 that are divisible by 7"
      ],
      "metadata": {
        "id": "bExGEJAsa4k4"
      }
    },
    {
      "cell_type": "code",
      "source": [
        "result=[i for i in range(1,1000) if i%7==0]\n",
        "print(result)"
      ],
      "metadata": {
        "colab": {
          "base_uri": "https://localhost:8080/"
        },
        "id": "XCPqaWiCatWv",
        "outputId": "3e9ccfbc-6d3a-464e-8a95-b44e9a8f94de"
      },
      "execution_count": null,
      "outputs": [
        {
          "output_type": "stream",
          "name": "stdout",
          "text": [
            "[7, 14, 21, 28, 35, 42, 49, 56, 63, 70, 77, 84, 91, 98, 105, 112, 119, 126, 133, 140, 147, 154, 161, 168, 175, 182, 189, 196, 203, 210, 217, 224, 231, 238, 245, 252, 259, 266, 273, 280, 287, 294, 301, 308, 315, 322, 329, 336, 343, 350, 357, 364, 371, 378, 385, 392, 399, 406, 413, 420, 427, 434, 441, 448, 455, 462, 469, 476, 483, 490, 497, 504, 511, 518, 525, 532, 539, 546, 553, 560, 567, 574, 581, 588, 595, 602, 609, 616, 623, 630, 637, 644, 651, 658, 665, 672, 679, 686, 693, 700, 707, 714, 721, 728, 735, 742, 749, 756, 763, 770, 777, 784, 791, 798, 805, 812, 819, 826, 833, 840, 847, 854, 861, 868, 875, 882, 889, 896, 903, 910, 917, 924, 931, 938, 945, 952, 959, 966, 973, 980, 987, 994]\n"
          ]
        }
      ]
    },
    {
      "cell_type": "markdown",
      "source": [
        "#Problem-4\n",
        "\n",
        "- Find all of the numbers from 1-1000 that have a 3 in them"
      ],
      "metadata": {
        "id": "xGzGGloybV7l"
      }
    },
    {
      "cell_type": "code",
      "source": [
        "result=[number for number in range(1,1000) if '3' in str(number)]\n",
        "print(result)"
      ],
      "metadata": {
        "colab": {
          "base_uri": "https://localhost:8080/"
        },
        "id": "qA7jYSyubTAj",
        "outputId": "f8e3aff6-8f71-458e-b646-2bdbf519da50"
      },
      "execution_count": null,
      "outputs": [
        {
          "output_type": "stream",
          "name": "stdout",
          "text": [
            "[3, 13, 23, 30, 31, 32, 33, 34, 35, 36, 37, 38, 39, 43, 53, 63, 73, 83, 93, 103, 113, 123, 130, 131, 132, 133, 134, 135, 136, 137, 138, 139, 143, 153, 163, 173, 183, 193, 203, 213, 223, 230, 231, 232, 233, 234, 235, 236, 237, 238, 239, 243, 253, 263, 273, 283, 293, 300, 301, 302, 303, 304, 305, 306, 307, 308, 309, 310, 311, 312, 313, 314, 315, 316, 317, 318, 319, 320, 321, 322, 323, 324, 325, 326, 327, 328, 329, 330, 331, 332, 333, 334, 335, 336, 337, 338, 339, 340, 341, 342, 343, 344, 345, 346, 347, 348, 349, 350, 351, 352, 353, 354, 355, 356, 357, 358, 359, 360, 361, 362, 363, 364, 365, 366, 367, 368, 369, 370, 371, 372, 373, 374, 375, 376, 377, 378, 379, 380, 381, 382, 383, 384, 385, 386, 387, 388, 389, 390, 391, 392, 393, 394, 395, 396, 397, 398, 399, 403, 413, 423, 430, 431, 432, 433, 434, 435, 436, 437, 438, 439, 443, 453, 463, 473, 483, 493, 503, 513, 523, 530, 531, 532, 533, 534, 535, 536, 537, 538, 539, 543, 553, 563, 573, 583, 593, 603, 613, 623, 630, 631, 632, 633, 634, 635, 636, 637, 638, 639, 643, 653, 663, 673, 683, 693, 703, 713, 723, 730, 731, 732, 733, 734, 735, 736, 737, 738, 739, 743, 753, 763, 773, 783, 793, 803, 813, 823, 830, 831, 832, 833, 834, 835, 836, 837, 838, 839, 843, 853, 863, 873, 883, 893, 903, 913, 923, 930, 931, 932, 933, 934, 935, 936, 937, 938, 939, 943, 953, 963, 973, 983, 993]\n"
          ]
        }
      ]
    },
    {
      "cell_type": "markdown",
      "source": [
        "#Problem-5\n",
        "\n",
        "- Count number of spaces in a string"
      ],
      "metadata": {
        "id": "SpP1bogFbsVJ"
      }
    },
    {
      "cell_type": "code",
      "source": [
        "some_string = 'the slow solid squid swam sumptuously through the slimy swamp'\n",
        "result=[word for word in some_string if word==' ']\n",
        "print(len(result))"
      ],
      "metadata": {
        "colab": {
          "base_uri": "https://localhost:8080/"
        },
        "id": "i5b7WoGgbnI6",
        "outputId": "6dcbc9b1-c1a0-4130-c7b6-aa28ff9c7cbe"
      },
      "execution_count": null,
      "outputs": [
        {
          "output_type": "stream",
          "name": "stdout",
          "text": [
            "9\n"
          ]
        }
      ]
    },
    {
      "cell_type": "markdown",
      "source": [
        "#Problem-6\n",
        "\n",
        "- Find all of the words in a string that are less than 4 letters"
      ],
      "metadata": {
        "id": "iQBLnJuWdPDG"
      }
    },
    {
      "cell_type": "code",
      "source": [
        "some_string = 'the slow solid squid swam sumptuously through the slimy swamp'\n",
        "splitted_string=some_string.split()\n",
        "result=[word for word in splitted_string if len(word)<4]\n",
        "print(result)"
      ],
      "metadata": {
        "colab": {
          "base_uri": "https://localhost:8080/"
        },
        "id": "u0QwpdTidCqB",
        "outputId": "6b29fb54-0b85-4b77-aa2c-efba848f153d"
      },
      "execution_count": null,
      "outputs": [
        {
          "output_type": "stream",
          "name": "stdout",
          "text": [
            "['the', 'the']\n"
          ]
        }
      ]
    },
    {
      "cell_type": "markdown",
      "source": [
        "#Problem-7\n",
        "\n",
        "- Get only the words in a sentence\n",
        "- Get only the numbers in a sentence"
      ],
      "metadata": {
        "id": "Mzw_benleHir"
      }
    },
    {
      "cell_type": "code",
      "source": [
        "sentence = 'In 1984 there were 13 instances of a protest with over 1000 people attending'\n",
        "s1=sentence.split()\n",
        "result=[s for s in s1 if s.isalpha()]\n",
        "print(result)"
      ],
      "metadata": {
        "colab": {
          "base_uri": "https://localhost:8080/"
        },
        "id": "GKS6ekspde9R",
        "outputId": "671bc301-69eb-4e62-ff2f-0232a36fcf7e"
      },
      "execution_count": null,
      "outputs": [
        {
          "output_type": "stream",
          "name": "stdout",
          "text": [
            "['In', 'there', 'were', 'instances', 'of', 'a', 'protest', 'with', 'over', 'people', 'attending']\n"
          ]
        }
      ]
    },
    {
      "cell_type": "code",
      "source": [
        "sentence = 'In 1984 there were 13 instances of a protest with over 1000 people attending'\n",
        "s1=sentence.split()\n",
        "result=[s for s in s1 if s.isnumeric()]\n",
        "#result=[s for s in s1 if not s.isalpha()]\n",
        "print(result)"
      ],
      "metadata": {
        "colab": {
          "base_uri": "https://localhost:8080/"
        },
        "id": "trsVRYLHerig",
        "outputId": "f34da753-13ab-4d4f-dc8a-7c44f6618bdc"
      },
      "execution_count": null,
      "outputs": [
        {
          "output_type": "stream",
          "name": "stdout",
          "text": [
            "['1984', '13', '1000']\n"
          ]
        }
      ]
    },
    {
      "cell_type": "markdown",
      "source": [
        "#Problem-8\n",
        "\n",
        "Create a list of all the consonants in the string \"Yellow Yaks like yelling and yawning and yesturday they yodled while eating yuky yams\""
      ],
      "metadata": {
        "id": "wjC77jmFhWm8"
      }
    },
    {
      "cell_type": "code",
      "source": [
        "sentence=\"Yellow Yaks like yelling and yawning and yesturday they yodled while eating yuky yams\"\n",
        "result=[word for word in sentence if word not in 'aeiouAeiou\" \"']\n",
        "print(result)"
      ],
      "metadata": {
        "colab": {
          "base_uri": "https://localhost:8080/"
        },
        "id": "s9wlYvTphfiS",
        "outputId": "8bf1d002-bbd7-476d-c5c0-6a2b3fab1fd1"
      },
      "execution_count": null,
      "outputs": [
        {
          "output_type": "stream",
          "name": "stdout",
          "text": [
            "['Y', 'l', 'l', 'w', 'Y', 'k', 's', 'l', 'k', 'y', 'l', 'l', 'n', 'g', 'n', 'd', 'y', 'w', 'n', 'n', 'g', 'n', 'd', 'y', 's', 't', 'r', 'd', 'y', 't', 'h', 'y', 'y', 'd', 'l', 'd', 'w', 'h', 'l', 't', 'n', 'g', 'y', 'k', 'y', 'y', 'm', 's']\n"
          ]
        }
      ]
    },
    {
      "cell_type": "markdown",
      "source": [
        "#Problem-9\n",
        "\n",
        "Find the common numbers in two lists (without using a tuple or set) list_a = 1, 2, 3, 4, list_b = 2, 3, 4, 5"
      ],
      "metadata": {
        "id": "I3UqCuvUiC1o"
      }
    },
    {
      "cell_type": "code",
      "source": [
        "list_a=[1,2,3,4]\n",
        "list_b=[2,3,4,5]\n",
        "result=[i for i in list_a if i in list_b]\n",
        "print(result)"
      ],
      "metadata": {
        "colab": {
          "base_uri": "https://localhost:8080/"
        },
        "id": "DqQvt2Z4hvC3",
        "outputId": "f0fbfda3-132f-4e70-dde4-163deba0cba2"
      },
      "execution_count": null,
      "outputs": [
        {
          "output_type": "stream",
          "name": "stdout",
          "text": [
            "[2, 3, 4]\n"
          ]
        }
      ]
    },
    {
      "cell_type": "markdown",
      "source": [
        "#Problem-10\n",
        "\n",
        "Given numbers = range(20), produce a list containing the word ‘even’ if a number in the numbers is even, and the word ‘odd’ if the number is odd. Result would look like ‘odd’,’odd’, ‘even’"
      ],
      "metadata": {
        "id": "tMOLdFSTi77S"
      }
    },
    {
      "cell_type": "code",
      "source": [
        "result=['even' if n%2 == 0 else 'odd' for n in range(20)]\n",
        "print(result)"
      ],
      "metadata": {
        "colab": {
          "base_uri": "https://localhost:8080/"
        },
        "id": "jREMSzmgiZ6B",
        "outputId": "f8a9536e-d73b-482c-f812-61d282360579"
      },
      "execution_count": null,
      "outputs": [
        {
          "output_type": "stream",
          "name": "stdout",
          "text": [
            "['even', 'odd', 'even', 'odd', 'even', 'odd', 'even', 'odd', 'even', 'odd', 'even', 'odd', 'even', 'odd', 'even', 'odd', 'even', 'odd', 'even', 'odd']\n"
          ]
        }
      ]
    },
    {
      "cell_type": "markdown",
      "source": [
        "#Problem-11\n",
        "\n",
        "Produce a list of tuples consisting of only the matching numbers in these lists list_a = [1, 2, 3,4,5,6,7,8,9], list_b = [2, 7, 1, 12].  Result would look like (4,4), (12,12)"
      ],
      "metadata": {
        "id": "tWd7I7vhnrGD"
      }
    },
    {
      "cell_type": "code",
      "source": [
        "list_a = [1,2,3,4,5,6,7,8,9]\n",
        "list_b = [2,7,1,12]\n",
        "result=[(a,b) for a in list_a for b in list_b if a==b]\n",
        "print(result)"
      ],
      "metadata": {
        "colab": {
          "base_uri": "https://localhost:8080/"
        },
        "id": "nbPEQ9gInhx4",
        "outputId": "7a4d8818-8bcc-498d-92e7-a08150d9d1ed"
      },
      "execution_count": null,
      "outputs": [
        {
          "output_type": "stream",
          "name": "stdout",
          "text": [
            "[(1, 1), (2, 2), (7, 7)]\n"
          ]
        }
      ]
    },
    {
      "cell_type": "markdown",
      "source": [
        "#Problem-12\n",
        "\n",
        "Use a nested list comprehension to find all of the numbers from 1-100 that are divisible by any single digit besides 1 (2-9)"
      ],
      "metadata": {
        "id": "xSk4X3_toT71"
      }
    },
    {
      "cell_type": "code",
      "source": [
        "#old school\n",
        "# no_dups = set()\n",
        "# for n in range(1, 100):\n",
        "#   for x in range(2,10):\n",
        "#     if n % x == 0:\n",
        "#       no_dups.add(n)\n",
        "# print(no_dups)\n",
        "# print()\n",
        "result = [number for number in range(1,100) if True in [True for x in range(2,10) if number % x == 0]]\n",
        "print(result)"
      ],
      "metadata": {
        "colab": {
          "base_uri": "https://localhost:8080/"
        },
        "id": "F4wXonoDoExg",
        "outputId": "a1d3ee8b-1224-4837-a9b1-dbac3dd247b2"
      },
      "execution_count": null,
      "outputs": [
        {
          "output_type": "stream",
          "name": "stdout",
          "text": [
            "[2, 3, 4, 5, 6, 7, 8, 9, 10, 12, 14, 15, 16, 18, 20, 21, 22, 24, 25, 26, 27, 28, 30, 32, 33, 34, 35, 36, 38, 39, 40, 42, 44, 45, 46, 48, 49, 50, 51, 52, 54, 55, 56, 57, 58, 60, 62, 63, 64, 65, 66, 68, 69, 70, 72, 74, 75, 76, 77, 78, 80, 81, 82, 84, 85, 86, 87, 88, 90, 91, 92, 93, 94, 95, 96, 98, 99]\n"
          ]
        }
      ]
    },
    {
      "cell_type": "code",
      "source": [],
      "metadata": {
        "id": "z5tDiWVTou9O"
      },
      "execution_count": null,
      "outputs": []
    }
  ]
}